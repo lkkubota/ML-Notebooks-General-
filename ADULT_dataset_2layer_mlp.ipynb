{
  "nbformat": 4,
  "nbformat_minor": 0,
  "metadata": {
    "colab": {
      "name": "ADULT_dataset_2layer_mlp.ipynb",
      "provenance": [],
      "collapsed_sections": []
    },
    "kernelspec": {
      "name": "python3",
      "display_name": "Python 3"
    },
    "language_info": {
      "name": "python"
    }
  },
  "cells": [
    {
      "cell_type": "code",
      "execution_count": null,
      "metadata": {
        "id": "0QuEEydmKndF"
      },
      "outputs": [],
      "source": [
        "import pandas as pd\n",
        "import numpy as np\n",
        "from sklearn.pipeline import Pipeline\n",
        "from sklearn.preprocessing import MinMaxScaler,OneHotEncoder,StandardScaler\n",
        "from sklearn.compose import ColumnTransformer\n",
        "from sklearn.neighbors import KNeighborsClassifier\n",
        "from sklearn.model_selection import GridSearchCV,RandomizedSearchCV\n",
        "from sklearn.model_selection import cross_val_score,cross_val_predict,train_test_split,cross_validate\n",
        "from sklearn.model_selection import StratifiedKFold\n",
        "from sklearn.svm import SVC\n",
        "from sklearn.svm import LinearSVC\n",
        "from sklearn.linear_model import LogisticRegression\n",
        "from imblearn.over_sampling import SMOTE\n",
        "from imblearn.under_sampling import RandomUnderSampler\n",
        "import xgboost as xgb\n",
        "from sklearn.discriminant_analysis import QuadraticDiscriminantAnalysis\n",
        "from sklearn.ensemble import RandomForestClassifier\n",
        "from sklearn.metrics import confusion_matrix,precision_score,recall_score,f1_score,roc_curve,roc_auc_score, accuracy_score\n",
        "from datetime import datetime"
      ]
    },
    {
      "cell_type": "code",
      "source": [
        "def timer(start_time=None):\n",
        "    if not start_time:\n",
        "        start_time = datetime.now()\n",
        "        return start_time\n",
        "    elif start_time:\n",
        "        thour, temp_sec = divmod((datetime.now() - start_time).total_seconds(), 3600)\n",
        "        tmin, tsec = divmod(temp_sec, 60)\n",
        "        print('\\n Time taken: %i hours %i minutes and %s seconds.' % (thour, tmin, round(tsec, 2)))\n",
        "        return f\"{thour} hours {tmin} minutes and {np.round(tsec, 2)} seconds.\""
      ],
      "metadata": {
        "id": "etrTeraGKyc9"
      },
      "execution_count": null,
      "outputs": []
    },
    {
      "cell_type": "code",
      "source": [
        "# import dataset\n",
        "url = 'https://raw.githubusercontent.com/jbrownlee/Datasets/master/adult-all.csv'\n",
        "df_raw = pd.read_csv(url,names=[\"Age\", \"Workclass\", \"Final Weight\", \"Education\", \"Education Number of Years\", \"Marital-status\",\n",
        "                            \"Occupation\", \"Relationship\", \"Race\", \"Sex\", \"Capital-gain\", \"Capital-loss\",\"Hours-per-week\", \"Native-country\",\n",
        "                            \"Target\"], na_values='?')"
      ],
      "metadata": {
        "id": "2S7MTgLaK2kP"
      },
      "execution_count": null,
      "outputs": []
    },
    {
      "cell_type": "code",
      "source": [
        "df=df_raw.copy()\n",
        "# let´s drop rows with missing data\n",
        "df = df.dropna()\n",
        "# label encode target\n",
        "mapping={\"<=50K\":0,\n",
        "         '>50K':1}\n",
        "df.loc[:,\"Target\"]=df[\"Target\"].map(mapping)\n",
        "# identify feature list\n",
        "features=[f for f in df.columns if f not in (\"Target\")]\n",
        "# select categorical and numerical features\n",
        "cat_ix = df[features].select_dtypes(include=['object', 'bool']).columns\n",
        "num_ix = df[features].select_dtypes(include=['int64', 'float64']).columns\n",
        "# split the dataframe into X and y\n",
        "X=df.loc[:, df.columns != 'Target']\n",
        "y=df.loc[:,'Target']\n",
        "# transform numerical features\n",
        "scaler=MinMaxScaler()\n",
        "Xnum=scaler.fit_transform(X[num_ix])\n",
        "# dataframe of numericals\n",
        "Xnum_df=pd.DataFrame(Xnum,columns=X[num_ix].columns)\n",
        "num_feat_names=X[num_ix].columns.to_list()\n",
        "# transform categorical features\n",
        "onehot=OneHotEncoder(handle_unknown = \"ignore\")\n",
        "Xcat=onehot.fit_transform(X[cat_ix])\n",
        "cat_feat_names=onehot.get_feature_names().tolist()\n",
        "# dataframe of categoricals\n",
        "Xcat_df=pd.DataFrame(Xcat.toarray(),columns=cat_feat_names)\n",
        "# concatenate nums+cats\n",
        "X_df = pd.concat([Xnum_df.reset_index(drop=True), Xcat_df.reset_index(drop=True)], axis=1)\n",
        "# # perform train-test split\n",
        "X_train, X_test, y_train, y_test = train_test_split(X_df, y, test_size=0.2, random_state=42)"
      ],
      "metadata": {
        "colab": {
          "base_uri": "https://localhost:8080/"
        },
        "id": "nJ0hYU4iK5N_",
        "outputId": "e5e8cf6c-e4c8-4d20-93d1-961ac7eb831f"
      },
      "execution_count": null,
      "outputs": [
        {
          "output_type": "stream",
          "name": "stderr",
          "text": [
            "/usr/local/lib/python3.7/dist-packages/sklearn/utils/deprecation.py:87: FutureWarning: Function get_feature_names is deprecated; get_feature_names is deprecated in 1.0 and will be removed in 1.2. Please use get_feature_names_out instead.\n",
            "  warnings.warn(msg, category=FutureWarning)\n"
          ]
        }
      ]
    },
    {
      "cell_type": "code",
      "source": [
        "from keras.models import Sequential,Model\n",
        "from keras.layers import Dense,Input,BatchNormalization,Dropout\n",
        "import tensorflow as tf\n",
        "from tensorflow import random\n",
        "from keras.wrappers.scikit_learn import KerasRegressor,KerasClassifier\n",
        "\n",
        "def create_dense(neurons):\n",
        "  inputs=Input(shape=(104))\n",
        "  x=inputs\n",
        "  x=Dense(neurons,activation=\"relu\")(x)\n",
        "  x=Dense(neurons/2,activation=\"relu\")(x)\n",
        "  x=Dense(1,activation='sigmoid')(x)\n",
        "  model=Model(inputs=inputs,outputs=x)\n",
        "  model.compile(optimizer='adam', loss='binary_crossentropy',metrics=['acc',f1_m,precision_m, recall_m])\n",
        "  return model\n",
        "  \n",
        "from keras import backend as K\n",
        "\n",
        "def recall_m(y_true, y_pred):\n",
        "    true_positives = K.sum(K.round(K.clip(y_true * y_pred, 0, 1)))\n",
        "    possible_positives = K.sum(K.round(K.clip(y_true, 0, 1)))\n",
        "    recall = true_positives / (possible_positives + K.epsilon())\n",
        "    return recall\n",
        "\n",
        "def precision_m(y_true, y_pred):\n",
        "    true_positives = K.sum(K.round(K.clip(y_true * y_pred, 0, 1)))\n",
        "    predicted_positives = K.sum(K.round(K.clip(y_pred, 0, 1)))\n",
        "    precision = true_positives / (predicted_positives + K.epsilon())\n",
        "    return precision\n",
        "\n",
        "def f1_m(y_true, y_pred):\n",
        "    precision = precision_m(y_true, y_pred)\n",
        "    recall = recall_m(y_true, y_pred)\n",
        "    return 2*((precision*recall)/(precision+recall+K.epsilon()))  "
      ],
      "metadata": {
        "id": "_X9BEMmXK_5n"
      },
      "execution_count": null,
      "outputs": []
    },
    {
      "cell_type": "markdown",
      "source": [
        "# **Grid-search CV**"
      ],
      "metadata": {
        "id": "Zd46oCZJMmk8"
      }
    },
    {
      "cell_type": "code",
      "source": [
        "# define lists\n",
        "accuracy=[]\n",
        "precision=[]\n",
        "recall=[]\n",
        "f1=[]\n",
        "names=[]\n",
        "runtime=[]\n",
        "cverror=[]\n",
        "# define initial params\n",
        "name=\"mlp\"\n",
        "thr=0.5\n",
        "# cross-validation fold for GridSearch\n",
        "cv_outer = StratifiedKFold(n_splits=3, shuffle=True, random_state=1)\n",
        "# covert to dataframe to array\n",
        "X_train=np.array(X_train)\n",
        "y_train=np.array(y_train)\n",
        "# turn on chronometer\n",
        "start_time = timer(None)\n",
        "for train_ix, test_ix in cv_outer.split(X_train,y_train):\n",
        "  # set seeds\n",
        "  tf.keras.backend.clear_session()\n",
        "  np.random.seed(123)\n",
        "  tf.random.set_seed(123)\n",
        "\t# split data\n",
        "  Xtrain, Xval = X_train[train_ix, :], X_train[test_ix, :]\n",
        "  ytrain, yval = y_train[train_ix], y_train[test_ix]\n",
        "\t# define search space\n",
        "  space = dict()\n",
        "  space['neurons'] = [64,128]\n",
        "\t# call grid-search\n",
        "  model=KerasClassifier(build_fn=create_dense, verbose=0, epochs=50)\n",
        "  search = GridSearchCV(model, space, scoring='f1', cv=cv_outer,verbose=0, refit=True)\n",
        "\t# execute search on training fold\n",
        "  result = search.fit(Xtrain, ytrain)\n",
        "\t# get the best performing model \n",
        "  best_model = result.best_estimator_\n",
        "\t# evaluate model on the val fold\n",
        "  yhat = best_model.predict(Xval)\n",
        "  # infer classes given threshold\n",
        "  predicted_classes = [1 * (x>=thr) for x in yhat]\n",
        "  predicted_classes=np.array(predicted_classes)\n",
        "\t# evaluate metrics\n",
        "  accuracy.append(accuracy_score(yval, predicted_classes))\n",
        "  precision.append(precision_score(yval, predicted_classes))\n",
        "  recall.append(recall_score(yval, predicted_classes))\n",
        "  f1.append(f1_score(yval, predicted_classes))\n",
        "time_off=timer(start_time)\n",
        "runtime.append(time_off)\n",
        "names.append(name)\n",
        "# save CV results to excel\n",
        "results=np.column_stack((names,np.mean(accuracy),\n",
        "                         np.mean(precision),np.mean(recall),np.mean(f1),runtime))  \n",
        "results_df=pd.DataFrame(results)\n",
        "results_df.columns=[\"name\",\"accuracy\",\"precision\",\"recall\",\"f1\",\"runtime\"]\n",
        "results_df.to_excel(\"results_cv.xlsx\")\n",
        "results_df.head(results_df.shape[0])"
      ],
      "metadata": {
        "colab": {
          "base_uri": "https://localhost:8080/",
          "height": 188
        },
        "id": "wFfnsgNNIqrt",
        "outputId": "8b457736-c003-425b-f789-5a34362c5426"
      },
      "execution_count": null,
      "outputs": [
        {
          "output_type": "stream",
          "name": "stderr",
          "text": [
            "/usr/local/lib/python3.7/dist-packages/ipykernel_launcher.py:31: DeprecationWarning: KerasClassifier is deprecated, use Sci-Keras (https://github.com/adriangb/scikeras) instead. See https://www.adriangb.com/scikeras/stable/migration.html for help migrating.\n",
            "/usr/local/lib/python3.7/dist-packages/ipykernel_launcher.py:31: DeprecationWarning: KerasClassifier is deprecated, use Sci-Keras (https://github.com/adriangb/scikeras) instead. See https://www.adriangb.com/scikeras/stable/migration.html for help migrating.\n",
            "/usr/local/lib/python3.7/dist-packages/ipykernel_launcher.py:31: DeprecationWarning: KerasClassifier is deprecated, use Sci-Keras (https://github.com/adriangb/scikeras) instead. See https://www.adriangb.com/scikeras/stable/migration.html for help migrating.\n"
          ]
        },
        {
          "output_type": "stream",
          "name": "stdout",
          "text": [
            "\n",
            " Time taken: 0 hours 46 minutes and 6.22 seconds.\n"
          ]
        },
        {
          "output_type": "execute_result",
          "data": {
            "text/plain": [
              "  name            accuracy           precision              recall  \\\n",
              "0  mlp  0.8283163335821101  0.6620545433785247  0.6195568196466367   \n",
              "\n",
              "                   f1                                   runtime  \n",
              "0  0.6399621603275794  0.0 hours 46.0 minutes and 6.22 seconds.  "
            ],
            "text/html": [
              "\n",
              "  <div id=\"df-d275fc0d-b367-42b4-8c8a-2ccf19ef6183\">\n",
              "    <div class=\"colab-df-container\">\n",
              "      <div>\n",
              "<style scoped>\n",
              "    .dataframe tbody tr th:only-of-type {\n",
              "        vertical-align: middle;\n",
              "    }\n",
              "\n",
              "    .dataframe tbody tr th {\n",
              "        vertical-align: top;\n",
              "    }\n",
              "\n",
              "    .dataframe thead th {\n",
              "        text-align: right;\n",
              "    }\n",
              "</style>\n",
              "<table border=\"1\" class=\"dataframe\">\n",
              "  <thead>\n",
              "    <tr style=\"text-align: right;\">\n",
              "      <th></th>\n",
              "      <th>name</th>\n",
              "      <th>accuracy</th>\n",
              "      <th>precision</th>\n",
              "      <th>recall</th>\n",
              "      <th>f1</th>\n",
              "      <th>runtime</th>\n",
              "    </tr>\n",
              "  </thead>\n",
              "  <tbody>\n",
              "    <tr>\n",
              "      <th>0</th>\n",
              "      <td>mlp</td>\n",
              "      <td>0.8283163335821101</td>\n",
              "      <td>0.6620545433785247</td>\n",
              "      <td>0.6195568196466367</td>\n",
              "      <td>0.6399621603275794</td>\n",
              "      <td>0.0 hours 46.0 minutes and 6.22 seconds.</td>\n",
              "    </tr>\n",
              "  </tbody>\n",
              "</table>\n",
              "</div>\n",
              "      <button class=\"colab-df-convert\" onclick=\"convertToInteractive('df-d275fc0d-b367-42b4-8c8a-2ccf19ef6183')\"\n",
              "              title=\"Convert this dataframe to an interactive table.\"\n",
              "              style=\"display:none;\">\n",
              "        \n",
              "  <svg xmlns=\"http://www.w3.org/2000/svg\" height=\"24px\"viewBox=\"0 0 24 24\"\n",
              "       width=\"24px\">\n",
              "    <path d=\"M0 0h24v24H0V0z\" fill=\"none\"/>\n",
              "    <path d=\"M18.56 5.44l.94 2.06.94-2.06 2.06-.94-2.06-.94-.94-2.06-.94 2.06-2.06.94zm-11 1L8.5 8.5l.94-2.06 2.06-.94-2.06-.94L8.5 2.5l-.94 2.06-2.06.94zm10 10l.94 2.06.94-2.06 2.06-.94-2.06-.94-.94-2.06-.94 2.06-2.06.94z\"/><path d=\"M17.41 7.96l-1.37-1.37c-.4-.4-.92-.59-1.43-.59-.52 0-1.04.2-1.43.59L10.3 9.45l-7.72 7.72c-.78.78-.78 2.05 0 2.83L4 21.41c.39.39.9.59 1.41.59.51 0 1.02-.2 1.41-.59l7.78-7.78 2.81-2.81c.8-.78.8-2.07 0-2.86zM5.41 20L4 18.59l7.72-7.72 1.47 1.35L5.41 20z\"/>\n",
              "  </svg>\n",
              "      </button>\n",
              "      \n",
              "  <style>\n",
              "    .colab-df-container {\n",
              "      display:flex;\n",
              "      flex-wrap:wrap;\n",
              "      gap: 12px;\n",
              "    }\n",
              "\n",
              "    .colab-df-convert {\n",
              "      background-color: #E8F0FE;\n",
              "      border: none;\n",
              "      border-radius: 50%;\n",
              "      cursor: pointer;\n",
              "      display: none;\n",
              "      fill: #1967D2;\n",
              "      height: 32px;\n",
              "      padding: 0 0 0 0;\n",
              "      width: 32px;\n",
              "    }\n",
              "\n",
              "    .colab-df-convert:hover {\n",
              "      background-color: #E2EBFA;\n",
              "      box-shadow: 0px 1px 2px rgba(60, 64, 67, 0.3), 0px 1px 3px 1px rgba(60, 64, 67, 0.15);\n",
              "      fill: #174EA6;\n",
              "    }\n",
              "\n",
              "    [theme=dark] .colab-df-convert {\n",
              "      background-color: #3B4455;\n",
              "      fill: #D2E3FC;\n",
              "    }\n",
              "\n",
              "    [theme=dark] .colab-df-convert:hover {\n",
              "      background-color: #434B5C;\n",
              "      box-shadow: 0px 1px 3px 1px rgba(0, 0, 0, 0.15);\n",
              "      filter: drop-shadow(0px 1px 2px rgba(0, 0, 0, 0.3));\n",
              "      fill: #FFFFFF;\n",
              "    }\n",
              "  </style>\n",
              "\n",
              "      <script>\n",
              "        const buttonEl =\n",
              "          document.querySelector('#df-d275fc0d-b367-42b4-8c8a-2ccf19ef6183 button.colab-df-convert');\n",
              "        buttonEl.style.display =\n",
              "          google.colab.kernel.accessAllowed ? 'block' : 'none';\n",
              "\n",
              "        async function convertToInteractive(key) {\n",
              "          const element = document.querySelector('#df-d275fc0d-b367-42b4-8c8a-2ccf19ef6183');\n",
              "          const dataTable =\n",
              "            await google.colab.kernel.invokeFunction('convertToInteractive',\n",
              "                                                     [key], {});\n",
              "          if (!dataTable) return;\n",
              "\n",
              "          const docLinkHtml = 'Like what you see? Visit the ' +\n",
              "            '<a target=\"_blank\" href=https://colab.research.google.com/notebooks/data_table.ipynb>data table notebook</a>'\n",
              "            + ' to learn more about interactive tables.';\n",
              "          element.innerHTML = '';\n",
              "          dataTable['output_type'] = 'display_data';\n",
              "          await google.colab.output.renderOutput(dataTable, element);\n",
              "          const docLink = document.createElement('div');\n",
              "          docLink.innerHTML = docLinkHtml;\n",
              "          element.appendChild(docLink);\n",
              "        }\n",
              "      </script>\n",
              "    </div>\n",
              "  </div>\n",
              "  "
            ]
          },
          "metadata": {},
          "execution_count": 11
        }
      ]
    },
    {
      "cell_type": "markdown",
      "source": [
        "# **Predictions on test set**"
      ],
      "metadata": {
        "id": "JnOOr8Pxr4kL"
      }
    },
    {
      "cell_type": "code",
      "source": [
        "# define lists\n",
        "accuracy=[]\n",
        "precision=[]\n",
        "recall=[]\n",
        "f1=[]\n",
        "names=[]\n",
        "auc=[]\n",
        "model=KerasClassifier(build_fn=create_dense, verbose=0, epochs=50)\n",
        "# call grid-search\n",
        "search = GridSearchCV(model, space, scoring='f1', cv=cv_outer, refit=True)\n",
        "# execute search on entire training set\n",
        "result = search.fit(X_train, y_train)\n",
        "# get the best performing model \n",
        "best_model = result.best_estimator_\n",
        "# fit pipeline on (X_train,y_train) to return best model\n",
        "best_model.fit(X_train,y_train)\n",
        "# make preditions using best_model\n",
        "predictions=best_model.predict(X_test)\n",
        "predicted_classes = [1 * (x>=thr) for x in predictions]\n",
        "# store classification metrics\n",
        "name=\"mlp\"\n",
        "names.append(name)\n",
        "accuracy.append(accuracy_score(y_test,predicted_classes))\n",
        "precision.append(precision_score(y_test,predicted_classes))\n",
        "recall.append(recall_score(y_test,predicted_classes))\n",
        "f1.append(f1_score(y_test,predicted_classes))\n",
        "auc.append(roc_auc_score(y_test,predictions))\n",
        "# save metrics to excel\n",
        "results=np.column_stack((names,accuracy,precision,recall,f1,auc))  \n",
        "results_df=pd.DataFrame(results)\n",
        "results_df.columns=[\"name\",\"accuracy\",\"precision\",\"recall\",\"f1\",\"auc\"]\n",
        "results_df.to_excel(\"results.xlsx\")\n",
        "results_df.head(results_df.shape[0])"
      ],
      "metadata": {
        "id": "YnCVQ2bVp9I8"
      },
      "execution_count": null,
      "outputs": []
    }
  ]
}