{
  "nbformat": 4,
  "nbformat_minor": 0,
  "metadata": {
    "colab": {
      "name": "BreastCancerDataset_KNN.ipynb",
      "provenance": [],
      "collapsed_sections": []
    },
    "kernelspec": {
      "name": "python3",
      "display_name": "Python 3"
    },
    "language_info": {
      "name": "python"
    }
  },
  "cells": [
    {
      "cell_type": "markdown",
      "source": [
        "# **Breast Cancer Dataset Assignment**"
      ],
      "metadata": {
        "id": "pLEvYuGhNfIg"
      }
    },
    {
      "cell_type": "markdown",
      "source": [
        "\n",
        "\n",
        "---\n",
        "\n"
      ],
      "metadata": {
        "id": "g8wCIlhoNdEB"
      }
    },
    {
      "cell_type": "code",
      "execution_count": 1,
      "metadata": {
        "id": "p6dz436hLSQ9"
      },
      "outputs": [],
      "source": [
        "import numpy as np\n",
        "import pandas as pd\n",
        "import matplotlib.pyplot as plt\n",
        "from sklearn.datasets import load_breast_cancer\n",
        "#-------------------------------------------------------------------#\n",
        "SMALL_SIZE = 12\n",
        "MEDIUM_SIZE = 14\n",
        "BIGGER_SIZE = 14\n",
        "\n",
        "plt.rc('font', size=SMALL_SIZE)          # controls default text sizes\n",
        "plt.rc('axes', titlesize=SMALL_SIZE, titleweight='bold')     # fontsize of the axes title\n",
        "plt.rc('axes', labelsize=MEDIUM_SIZE, labelweight='bold')    # fontsize of the x and y labels\n",
        "plt.rc('xtick', labelsize=SMALL_SIZE)    # fontsize of the tick labels\n",
        "plt.rc('ytick', labelsize=SMALL_SIZE)    # fontsize of the tick labels\n",
        "plt.rc('legend', fontsize=SMALL_SIZE)    # legend fontsize\n",
        "plt.rc('figure', titlesize=BIGGER_SIZE)  # fontsize of the figure title\n",
        "#-------------------------------------------------------------------#"
      ]
    },
    {
      "cell_type": "code",
      "source": [
        "# load_breast_cancer return a Bunch object\n",
        "# which is similar to a dictionary\n",
        "cancer = load_breast_cancer()"
      ],
      "metadata": {
        "id": "-4mPAce8Le1J"
      },
      "execution_count": 2,
      "outputs": []
    },
    {
      "cell_type": "code",
      "source": [
        "# dataset description\n",
        "print(cancer.DESCR)"
      ],
      "metadata": {
        "colab": {
          "base_uri": "https://localhost:8080/"
        },
        "id": "z6Y1sYBGLx_B",
        "outputId": "24e48569-fe38-40ed-bb64-f6232f724cba"
      },
      "execution_count": null,
      "outputs": [
        {
          "output_type": "stream",
          "name": "stdout",
          "text": [
            ".. _breast_cancer_dataset:\n",
            "\n",
            "Breast cancer wisconsin (diagnostic) dataset\n",
            "--------------------------------------------\n",
            "\n",
            "**Data Set Characteristics:**\n",
            "\n",
            "    :Number of Instances: 569\n",
            "\n",
            "    :Number of Attributes: 30 numeric, predictive attributes and the class\n",
            "\n",
            "    :Attribute Information:\n",
            "        - radius (mean of distances from center to points on the perimeter)\n",
            "        - texture (standard deviation of gray-scale values)\n",
            "        - perimeter\n",
            "        - area\n",
            "        - smoothness (local variation in radius lengths)\n",
            "        - compactness (perimeter^2 / area - 1.0)\n",
            "        - concavity (severity of concave portions of the contour)\n",
            "        - concave points (number of concave portions of the contour)\n",
            "        - symmetry\n",
            "        - fractal dimension (\"coastline approximation\" - 1)\n",
            "\n",
            "        The mean, standard error, and \"worst\" or largest (mean of the three\n",
            "        worst/largest values) of these features were computed for each image,\n",
            "        resulting in 30 features.  For instance, field 0 is Mean Radius, field\n",
            "        10 is Radius SE, field 20 is Worst Radius.\n",
            "\n",
            "        - class:\n",
            "                - WDBC-Malignant\n",
            "                - WDBC-Benign\n",
            "\n",
            "    :Summary Statistics:\n",
            "\n",
            "    ===================================== ====== ======\n",
            "                                           Min    Max\n",
            "    ===================================== ====== ======\n",
            "    radius (mean):                        6.981  28.11\n",
            "    texture (mean):                       9.71   39.28\n",
            "    perimeter (mean):                     43.79  188.5\n",
            "    area (mean):                          143.5  2501.0\n",
            "    smoothness (mean):                    0.053  0.163\n",
            "    compactness (mean):                   0.019  0.345\n",
            "    concavity (mean):                     0.0    0.427\n",
            "    concave points (mean):                0.0    0.201\n",
            "    symmetry (mean):                      0.106  0.304\n",
            "    fractal dimension (mean):             0.05   0.097\n",
            "    radius (standard error):              0.112  2.873\n",
            "    texture (standard error):             0.36   4.885\n",
            "    perimeter (standard error):           0.757  21.98\n",
            "    area (standard error):                6.802  542.2\n",
            "    smoothness (standard error):          0.002  0.031\n",
            "    compactness (standard error):         0.002  0.135\n",
            "    concavity (standard error):           0.0    0.396\n",
            "    concave points (standard error):      0.0    0.053\n",
            "    symmetry (standard error):            0.008  0.079\n",
            "    fractal dimension (standard error):   0.001  0.03\n",
            "    radius (worst):                       7.93   36.04\n",
            "    texture (worst):                      12.02  49.54\n",
            "    perimeter (worst):                    50.41  251.2\n",
            "    area (worst):                         185.2  4254.0\n",
            "    smoothness (worst):                   0.071  0.223\n",
            "    compactness (worst):                  0.027  1.058\n",
            "    concavity (worst):                    0.0    1.252\n",
            "    concave points (worst):               0.0    0.291\n",
            "    symmetry (worst):                     0.156  0.664\n",
            "    fractal dimension (worst):            0.055  0.208\n",
            "    ===================================== ====== ======\n",
            "\n",
            "    :Missing Attribute Values: None\n",
            "\n",
            "    :Class Distribution: 212 - Malignant, 357 - Benign\n",
            "\n",
            "    :Creator:  Dr. William H. Wolberg, W. Nick Street, Olvi L. Mangasarian\n",
            "\n",
            "    :Donor: Nick Street\n",
            "\n",
            "    :Date: November, 1995\n",
            "\n",
            "This is a copy of UCI ML Breast Cancer Wisconsin (Diagnostic) datasets.\n",
            "https://goo.gl/U2Uwz2\n",
            "\n",
            "Features are computed from a digitized image of a fine needle\n",
            "aspirate (FNA) of a breast mass.  They describe\n",
            "characteristics of the cell nuclei present in the image.\n",
            "\n",
            "Separating plane described above was obtained using\n",
            "Multisurface Method-Tree (MSM-T) [K. P. Bennett, \"Decision Tree\n",
            "Construction Via Linear Programming.\" Proceedings of the 4th\n",
            "Midwest Artificial Intelligence and Cognitive Science Society,\n",
            "pp. 97-101, 1992], a classification method which uses linear\n",
            "programming to construct a decision tree.  Relevant features\n",
            "were selected using an exhaustive search in the space of 1-4\n",
            "features and 1-3 separating planes.\n",
            "\n",
            "The actual linear program used to obtain the separating plane\n",
            "in the 3-dimensional space is that described in:\n",
            "[K. P. Bennett and O. L. Mangasarian: \"Robust Linear\n",
            "Programming Discrimination of Two Linearly Inseparable Sets\",\n",
            "Optimization Methods and Software 1, 1992, 23-34].\n",
            "\n",
            "This database is also available through the UW CS ftp server:\n",
            "\n",
            "ftp ftp.cs.wisc.edu\n",
            "cd math-prog/cpo-dataset/machine-learn/WDBC/\n",
            "\n",
            ".. topic:: References\n",
            "\n",
            "   - W.N. Street, W.H. Wolberg and O.L. Mangasarian. Nuclear feature extraction \n",
            "     for breast tumor diagnosis. IS&T/SPIE 1993 International Symposium on \n",
            "     Electronic Imaging: Science and Technology, volume 1905, pages 861-870,\n",
            "     San Jose, CA, 1993.\n",
            "   - O.L. Mangasarian, W.N. Street and W.H. Wolberg. Breast cancer diagnosis and \n",
            "     prognosis via linear programming. Operations Research, 43(4), pages 570-577, \n",
            "     July-August 1995.\n",
            "   - W.H. Wolberg, W.N. Street, and O.L. Mangasarian. Machine learning techniques\n",
            "     to diagnose breast cancer from fine-needle aspirates. Cancer Letters 77 (1994) \n",
            "     163-171.\n"
          ]
        }
      ]
    },
    {
      "cell_type": "code",
      "source": [
        "# to access the data, use:\n",
        "cancer.data;\n",
        "# to access feature_names\n",
        "cancer.feature_names"
      ],
      "metadata": {
        "colab": {
          "base_uri": "https://localhost:8080/"
        },
        "id": "ELijYGb1PNQw",
        "outputId": "f15b266c-0884-4d2b-8c10-45a4d7c09dad"
      },
      "execution_count": 3,
      "outputs": [
        {
          "output_type": "execute_result",
          "data": {
            "text/plain": [
              "array(['mean radius', 'mean texture', 'mean perimeter', 'mean area',\n",
              "       'mean smoothness', 'mean compactness', 'mean concavity',\n",
              "       'mean concave points', 'mean symmetry', 'mean fractal dimension',\n",
              "       'radius error', 'texture error', 'perimeter error', 'area error',\n",
              "       'smoothness error', 'compactness error', 'concavity error',\n",
              "       'concave points error', 'symmetry error',\n",
              "       'fractal dimension error', 'worst radius', 'worst texture',\n",
              "       'worst perimeter', 'worst area', 'worst smoothness',\n",
              "       'worst compactness', 'worst concavity', 'worst concave points',\n",
              "       'worst symmetry', 'worst fractal dimension'], dtype='<U23')"
            ]
          },
          "metadata": {},
          "execution_count": 3
        }
      ]
    },
    {
      "cell_type": "code",
      "source": [
        "cancer.keys()"
      ],
      "metadata": {
        "colab": {
          "base_uri": "https://localhost:8080/"
        },
        "id": "CRfnq7hdMo5X",
        "outputId": "bf2d5dfe-f013-46d8-d03f-fefa34c2efa9"
      },
      "execution_count": 4,
      "outputs": [
        {
          "output_type": "execute_result",
          "data": {
            "text/plain": [
              "dict_keys(['data', 'target', 'frame', 'target_names', 'DESCR', 'feature_names', 'filename', 'data_module'])"
            ]
          },
          "metadata": {},
          "execution_count": 4
        }
      ]
    },
    {
      "cell_type": "code",
      "source": [
        "# extracting number of features\n",
        "n_features=len(cancer['feature_names'])\n",
        "print(f\"The dataset contains {n_features} features.\")\n",
        "# verifying number of positives (benign)\n",
        "n_positives=np.sum(cancer['target']==1)\n",
        "print(f\"Number of + (benign) classes: {n_positives}\")\n",
        "# verifying number of negatives (malign)\n",
        "n_negatives=np.sum(cancer['target']==0)\n",
        "print(f\"Number of - (malign) classes: {n_negatives}\")"
      ],
      "metadata": {
        "colab": {
          "base_uri": "https://localhost:8080/"
        },
        "id": "3LTlAX_iM5BZ",
        "outputId": "b954b0a6-2318-4d4e-a7c7-e2e2e38ecee9"
      },
      "execution_count": 5,
      "outputs": [
        {
          "output_type": "stream",
          "name": "stdout",
          "text": [
            "The dataset contains 30 features.\n",
            "Number of + (benign) classes: 357\n",
            "Number of - (malign) classes: 212\n"
          ]
        }
      ]
    },
    {
      "cell_type": "code",
      "source": [
        "# convert cancer dataset to a dataframe\n",
        "df = pd.DataFrame(cancer.data, columns=cancer.feature_names)\n",
        "df['target'] = pd.Series(cancer.target)\n",
        "df.shape"
      ],
      "metadata": {
        "colab": {
          "base_uri": "https://localhost:8080/"
        },
        "id": "8ctQpTzONVeI",
        "outputId": "9dfd6e41-44c4-411e-b678-168d4cce499e"
      },
      "execution_count": 6,
      "outputs": [
        {
          "output_type": "execute_result",
          "data": {
            "text/plain": [
              "(569, 31)"
            ]
          },
          "metadata": {},
          "execution_count": 6
        }
      ]
    },
    {
      "cell_type": "code",
      "source": [
        "# split the dataframe into X and y\n",
        "X=df.iloc[:,:-1]\n",
        "y=df.iloc[:,-1]"
      ],
      "metadata": {
        "id": "-6JfMJ-gSOio"
      },
      "execution_count": 7,
      "outputs": []
    },
    {
      "cell_type": "code",
      "source": [
        "# train-test split\n",
        "from sklearn.model_selection import train_test_split\n",
        "X_train, X_test, y_train, y_test=train_test_split(X,y,random_state=1)"
      ],
      "metadata": {
        "id": "2WSVWtOhS8D3"
      },
      "execution_count": 8,
      "outputs": []
    },
    {
      "cell_type": "code",
      "source": [
        "# fit a 1KNN\n",
        "from sklearn.neighbors import KNeighborsClassifier\n",
        "knn=KNeighborsClassifier(n_neighbors=1)\n",
        "knn.fit(X_train,y_train)"
      ],
      "metadata": {
        "colab": {
          "base_uri": "https://localhost:8080/"
        },
        "id": "J11DG0LGTVLg",
        "outputId": "8de305fb-256d-4e11-edd0-df8a080349b0"
      },
      "execution_count": 9,
      "outputs": [
        {
          "output_type": "execute_result",
          "data": {
            "text/plain": [
              "KNeighborsClassifier(n_neighbors=1)"
            ]
          },
          "metadata": {},
          "execution_count": 9
        }
      ]
    },
    {
      "cell_type": "code",
      "source": [
        "# predict the class label using \n",
        "# the mean value for each feature\n",
        "mean=df.mean()[:-1].values.reshape(1, -1)\n",
        "predict=knn.predict(mean)"
      ],
      "metadata": {
        "colab": {
          "base_uri": "https://localhost:8080/"
        },
        "id": "xBEIQAy0ULun",
        "outputId": "b623e6dc-342c-4ead-ea47-08be787042cc"
      },
      "execution_count": 10,
      "outputs": [
        {
          "output_type": "stream",
          "name": "stderr",
          "text": [
            "/usr/local/lib/python3.7/dist-packages/sklearn/base.py:451: UserWarning: X does not have valid feature names, but KNeighborsClassifier was fitted with feature names\n",
            "  \"X does not have valid feature names, but\"\n"
          ]
        }
      ]
    },
    {
      "cell_type": "code",
      "source": [
        "# prediction on X_test\n",
        "predicted=knn.predict(X_test)\n",
        "# prediction on X_test\n",
        "predicted_scores=knn.predict_proba(X_test)[:,1]\n",
        "#evaluate accuracy\n",
        "accuracy=knn.score(X_test,y_test)"
      ],
      "metadata": {
        "id": "T1kNR1kQVJMQ"
      },
      "execution_count": 11,
      "outputs": []
    },
    {
      "cell_type": "code",
      "source": [
        "def accuracy_plot(X_train, X_test, y_train, y_test,knn):\n",
        "    import matplotlib.pyplot as plt\n",
        "    # Find the training and testing accuracies by target value (i.e. malignant, benign)\n",
        "    mal_train_X = X_train[y_train==0]\n",
        "    mal_train_y = y_train[y_train==0]\n",
        "    ben_train_X = X_train[y_train==1]\n",
        "    ben_train_y = y_train[y_train==1]\n",
        "\n",
        "    mal_test_X = X_test[y_test==0]\n",
        "    mal_test_y = y_test[y_test==0]\n",
        "    ben_test_X = X_test[y_test==1]\n",
        "    ben_test_y = y_test[y_test==1]\n",
        "\n",
        "    scores = [knn.score(mal_train_X, mal_train_y), knn.score(ben_train_X, ben_train_y), \n",
        "              knn.score(mal_test_X, mal_test_y), knn.score(ben_test_X, ben_test_y)]\n",
        "\n",
        "    plt.figure()\n",
        "\n",
        "    # Plot the scores as a bar chart\n",
        "    bars = plt.bar(np.arange(4), scores, color=['#4c72b0','#4c72b0','#55a868','#55a868'])\n",
        "\n",
        "    # directly label the score onto the bars\n",
        "    for bar in bars:\n",
        "        height = bar.get_height()\n",
        "        plt.gca().text(bar.get_x() + bar.get_width()/2, height*.90, '{0:.{1}f}'.format(height, 2), \n",
        "                     ha='center', color='w', fontsize=11)\n",
        "\n",
        "    # remove all the ticks (both axes), and tick labels on the Y axis\n",
        "    plt.tick_params(top='off', bottom='off', left='off', right='off', labelleft='off', labelbottom='on')\n",
        "\n",
        "    # remove the frame of the chart\n",
        "    for spine in plt.gca().spines.values():\n",
        "        spine.set_visible(False)\n",
        "\n",
        "    plt.xticks([0,1,2,3], ['Malignant\\nTraining', 'Benign\\nTraining', 'Malignant\\nTest', 'Benign\\nTest'], alpha=0.8);\n",
        "    plt.title('Training and Test Accuracies for Malignant and Benign Cells', alpha=0.8)"
      ],
      "metadata": {
        "id": "aqz8zg-tWO64"
      },
      "execution_count": 12,
      "outputs": []
    },
    {
      "cell_type": "markdown",
      "source": [
        "# **Classification Metrics**"
      ],
      "metadata": {
        "id": "Tx9RqSyqZH2M"
      }
    },
    {
      "cell_type": "code",
      "source": [
        "accuracy_plot(X_train, X_test, y_train, y_test,knn)"
      ],
      "metadata": {
        "colab": {
          "base_uri": "https://localhost:8080/",
          "height": 299
        },
        "id": "XL3Mk2ORWjen",
        "outputId": "736370ed-b28c-4ae0-ba4b-7c99e0fd8a8d"
      },
      "execution_count": 13,
      "outputs": [
        {
          "output_type": "display_data",
          "data": {
            "text/plain": [
              "<Figure size 432x288 with 1 Axes>"
            ],
            "image/png": "[encoded data removed]"
          },
          "metadata": {
            "needs_background": "light"
          }
        }
      ]
    },
    {
      "cell_type": "code",
      "source": [
        "from sklearn.metrics import confusion_matrix,precision_score,recall_score,f1_score,roc_curve,roc_auc_score\n",
        "confusion_matrix(y_test,predicted)"
      ],
      "metadata": {
        "colab": {
          "base_uri": "https://localhost:8080/"
        },
        "id": "yrI5ShmVXHGO",
        "outputId": "6b52beda-ceba-4f79-98dc-1a366a591a6b"
      },
      "execution_count": 14,
      "outputs": [
        {
          "output_type": "execute_result",
          "data": {
            "text/plain": [
              "array([[48,  7],\n",
              "       [ 4, 84]])"
            ]
          },
          "metadata": {},
          "execution_count": 14
        }
      ]
    },
    {
      "cell_type": "code",
      "source": [
        "precision_score(y_test,predicted)"
      ],
      "metadata": {
        "colab": {
          "base_uri": "https://localhost:8080/"
        },
        "id": "xiiWhzJPX3Zv",
        "outputId": "58a3de4f-7ef6-4918-817d-b3ce7351a511"
      },
      "execution_count": 15,
      "outputs": [
        {
          "output_type": "execute_result",
          "data": {
            "text/plain": [
              "0.9230769230769231"
            ]
          },
          "metadata": {},
          "execution_count": 15
        }
      ]
    },
    {
      "cell_type": "code",
      "source": [
        "recall_score(y_test,predicted)"
      ],
      "metadata": {
        "colab": {
          "base_uri": "https://localhost:8080/"
        },
        "id": "AGZGhth-X-K_",
        "outputId": "20010d7b-d079-4756-8a9d-b9f5aedcc9bc"
      },
      "execution_count": 16,
      "outputs": [
        {
          "output_type": "execute_result",
          "data": {
            "text/plain": [
              "0.9545454545454546"
            ]
          },
          "metadata": {},
          "execution_count": 16
        }
      ]
    },
    {
      "cell_type": "code",
      "source": [
        "f1_score(y_test,predicted)"
      ],
      "metadata": {
        "colab": {
          "base_uri": "https://localhost:8080/"
        },
        "id": "3tMIIlFYYCBv",
        "outputId": "fdb730df-88d1-4992-b300-e74155fcade5"
      },
      "execution_count": 17,
      "outputs": [
        {
          "output_type": "execute_result",
          "data": {
            "text/plain": [
              "0.9385474860335197"
            ]
          },
          "metadata": {},
          "execution_count": 17
        }
      ]
    },
    {
      "cell_type": "code",
      "source": [
        "import matplotlib.pyplot as plt\n",
        "fpr,tpr,thresh=roc_curve(y_test,predicted_scores)\n",
        "auc=roc_auc_score(y_test,predicted_scores)\n",
        "plt.plot(fpr,tpr,linewidth=2)\n",
        "plt.plot([0,1],[0,1],'k--')\n",
        "plt.title(f\"AUC={np.round(auc,2)}\")"
      ],
      "metadata": {
        "colab": {
          "base_uri": "https://localhost:8080/",
          "height": 301
        },
        "id": "XNNB-nnIYOJP",
        "outputId": "2bcfe4f1-2966-438a-fd55-9b6d1e1c728b"
      },
      "execution_count": 18,
      "outputs": [
        {
          "output_type": "execute_result",
          "data": {
            "text/plain": [
              "Text(0.5, 1.0, 'AUC=0.91')"
            ]
          },
          "metadata": {},
          "execution_count": 18
        },
        {
          "output_type": "display_data",
          "data": {
            "text/plain": [
              "<Figure size 432x288 with 1 Axes>"
            ],
            "image/png": "[encoded data removed]"
          },
          "metadata": {
            "needs_background": "light"
          }
        }
      ]
    },
    {
      "cell_type": "markdown",
      "source": [
        "# **Evaluation of different \"k\" and \"f1-score\"**"
      ],
      "metadata": {
        "id": "rWQm6x_dZ4Hg"
      }
    },
    {
      "cell_type": "code",
      "source": [
        "# first with seed=0 for train-test split\n",
        "k_list=range(1,21)\n",
        "f1=[]\n",
        "auc=[]\n",
        "for k in k_list:\n",
        "  X_train, X_test, y_train, y_test=train_test_split(X,y,random_state=0)\n",
        "  knn=KNeighborsClassifier(n_neighbors=k)\n",
        "  knn.fit(X_train,y_train)\n",
        "  predicted=knn.predict(X_test)\n",
        "  scores=knn.predict_proba(X_test)[:,1]\n",
        "  f1.append(f1_score(y_test,predicted))\n",
        "  auc.append(roc_auc_score(y_test,scores))\n",
        "\n",
        "labels=['f1','auc']\n",
        "subplots=(121,122)\n",
        "plt.figure(figsize=(14,3.5))\n",
        "plt.subplot(121)\n",
        "plt.plot(k_list,f1,'ko-')\n",
        "plt.xlabel(\"K\")\n",
        "plt.ylabel(\"F1-score\")\n",
        "plt.subplot(122)\n",
        "plt.plot(k_list,auc,'ko-')\n",
        "plt.xlabel(\"K\")\n",
        "plt.ylabel(\"AUC\")"
      ],
      "metadata": {
        "colab": {
          "base_uri": "https://localhost:8080/",
          "height": 276
        },
        "id": "yn_Q_0VRZ8oP",
        "outputId": "83cbe0e9-153c-411a-8b06-d5c7bf1f7c1a"
      },
      "execution_count": 19,
      "outputs": [
        {
          "output_type": "execute_result",
          "data": {
            "text/plain": [
              "Text(0, 0.5, 'AUC')"
            ]
          },
          "metadata": {},
          "execution_count": 19
        },
        {
          "output_type": "display_data",
          "data": {
            "text/plain": [
              "<Figure size 1008x252 with 2 Axes>"
            ],
            "image/png": "[encoded data removed]"
          },
          "metadata": {
            "needs_background": "light"
          }
        }
      ]
    },
    {
      "cell_type": "code",
      "source": [
        "# Now with seed=1 for train-test split\n",
        "k_list=range(1,21)\n",
        "f1=[]\n",
        "auc=[]\n",
        "for k in k_list:\n",
        "  X_train, X_test, y_train, y_test=train_test_split(X,y,random_state=1)\n",
        "  knn=KNeighborsClassifier(n_neighbors=k)\n",
        "  knn.fit(X_train,y_train)\n",
        "  predicted=knn.predict(X_test)\n",
        "  scores=knn.predict_proba(X_test)[:,1]\n",
        "  f1.append(f1_score(y_test,predicted))\n",
        "  auc.append(roc_auc_score(y_test,scores))\n",
        "\n",
        "labels=['f1','auc']\n",
        "subplots=(121,122)\n",
        "plt.figure(figsize=(14,3.5))\n",
        "plt.subplot(121)\n",
        "plt.plot(k_list,f1,'ko-')\n",
        "plt.xlabel(\"K\")\n",
        "plt.ylabel(\"F1-score\")\n",
        "plt.subplot(122)\n",
        "plt.plot(k_list,auc,'ko-')\n",
        "plt.xlabel(\"K\")\n",
        "plt.ylabel(\"AUC\")"
      ],
      "metadata": {
        "colab": {
          "base_uri": "https://localhost:8080/",
          "height": 277
        },
        "id": "OlE8CNQvh5pW",
        "outputId": "d0b83f19-48e4-4a4a-e987-50612a4ba7e1"
      },
      "execution_count": 20,
      "outputs": [
        {
          "output_type": "execute_result",
          "data": {
            "text/plain": [
              "Text(0, 0.5, 'AUC')"
            ]
          },
          "metadata": {},
          "execution_count": 20
        },
        {
          "output_type": "display_data",
          "data": {
            "text/plain": [
              "<Figure size 1008x252 with 2 Axes>"
            ],
            "image/png": "[encoded data removed]"
          },
          "metadata": {
            "needs_background": "light"
          }
        }
      ]
    },
    {
      "cell_type": "markdown",
      "source": [
        "However, we know train-test split is an extremely biased estimator for the generalization error.\n",
        "\n",
        "We apply **Nested K-Fold Cross Validation**, where the inner loop searches for the best hyperparameters using GridSearchCV (with 3-folds), and the outer loop yields an estimate for the generalization error.\n",
        "\n",
        "The outer loop contains 5-folds and we report the F1 for each fold, as well as the average F1. The average F1 can be deemed as the generalization error estimate."
      ],
      "metadata": {
        "id": "3WGuW6AQdwhg"
      }
    },
    {
      "cell_type": "code",
      "source": [
        "from sklearn.model_selection import cross_val_score,cross_val_predict, GridSearchCV,train_test_split,KFold\n",
        "# define hyper-param grids\n",
        "grid = {'n_neighbors':[1,5,10,15,20,25,30]}\n",
        "# inner 3-fold loop for hyper-params selection\n",
        "cv_inner =  KFold(n_splits=3, shuffle=True, random_state=0)\n",
        "# outer 5-fold loop for generalization error \n",
        "cv_outer = KFold(5, shuffle=True,random_state= 0)\n",
        "# invoke knn\n",
        "model=KNeighborsClassifier()\n",
        "# invoke grid-search CV\n",
        "gscv= GridSearchCV(estimator=model,\n",
        "                  param_grid = grid,\n",
        "                  cv=cv_inner,\n",
        "                  scoring='f1',\n",
        "                  verbose=0,\n",
        "                  n_jobs=-1,\n",
        "                  refit=True)\n",
        "# estimate generalization error\n",
        "scores=cross_val_score(gscv, X,y,cv=cv_outer,scoring='f1',n_jobs=-1);\n",
        "print(f\"Mean F1 score={np.mean(scores)}\")\n",
        "print(f\"STD F1 score={np.std(scores)}\")"
      ],
      "metadata": {
        "colab": {
          "base_uri": "https://localhost:8080/"
        },
        "id": "iG7tHdp3eON0",
        "outputId": "0aba2893-fa10-42c2-dc21-1ba5f9dbdfae"
      },
      "execution_count": 21,
      "outputs": [
        {
          "output_type": "stream",
          "name": "stdout",
          "text": [
            "Mean F1 score=0.9485399193898483\n",
            "STD F1 score=0.023128866404677345\n"
          ]
        }
      ]
    },
    {
      "cell_type": "code",
      "source": [
        "# obtain best model\n",
        "grid_result = gscv.fit(X,y)\n",
        "best_params = grid_result.best_params_\n",
        "best_params"
      ],
      "metadata": {
        "colab": {
          "base_uri": "https://localhost:8080/"
        },
        "id": "0Xjdjha-hHDG",
        "outputId": "3f8024ce-b43e-491d-bb62-c94b83e574b5"
      },
      "execution_count": 22,
      "outputs": [
        {
          "output_type": "execute_result",
          "data": {
            "text/plain": [
              "{'n_neighbors': 20}"
            ]
          },
          "metadata": {},
          "execution_count": 22
        }
      ]
    }
  ]
}