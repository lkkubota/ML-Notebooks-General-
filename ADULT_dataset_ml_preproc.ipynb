{
  "nbformat": 4,
  "nbformat_minor": 0,
  "metadata": {
    "colab": {
      "name": "ADULT_dataset_ml_preproc.ipynb",
      "provenance": [],
      "collapsed_sections": []
    },
    "kernelspec": {
      "name": "python3",
      "display_name": "Python 3"
    },
    "language_info": {
      "name": "python"
    }
  },
  "cells": [
    {
      "cell_type": "code",
      "execution_count": null,
      "metadata": {
        "id": "Y3c57wNKaWSl"
      },
      "outputs": [],
      "source": [
        "import pandas as pd\n",
        "import numpy as np\n",
        "from sklearn.pipeline import Pipeline\n",
        "from sklearn.preprocessing import MinMaxScaler,OneHotEncoder,StandardScaler\n",
        "from sklearn.compose import ColumnTransformer\n",
        "from sklearn.neighbors import KNeighborsClassifier\n",
        "from sklearn.model_selection import GridSearchCV,RandomizedSearchCV\n",
        "from sklearn.model_selection import cross_val_score,cross_val_predict,train_test_split,cross_validate\n",
        "from sklearn.model_selection import StratifiedKFold\n",
        "from sklearn.svm import SVC\n",
        "from sklearn.svm import LinearSVC\n",
        "from sklearn.linear_model import LogisticRegression\n",
        "from imblearn.over_sampling import SMOTE\n",
        "from imblearn.under_sampling import RandomUnderSampler\n",
        "import xgboost as xgb\n",
        "from sklearn.discriminant_analysis import QuadraticDiscriminantAnalysis\n",
        "from sklearn.ensemble import RandomForestClassifier\n",
        "from sklearn.metrics import confusion_matrix,precision_score,recall_score,f1_score,roc_curve,roc_auc_score, accuracy_score\n",
        "from datetime import datetime"
      ]
    },
    {
      "cell_type": "code",
      "source": [
        "def timer(start_time=None):\n",
        "    if not start_time:\n",
        "        start_time = datetime.now()\n",
        "        return start_time\n",
        "    elif start_time:\n",
        "        thour, temp_sec = divmod((datetime.now() - start_time).total_seconds(), 3600)\n",
        "        tmin, tsec = divmod(temp_sec, 60)\n",
        "        print('\\n Time taken: %i hours %i minutes and %s seconds.' % (thour, tmin, round(tsec, 2)))\n",
        "        return f\"{thour} hours {tmin} minutes and {np.round(tsec, 2)} seconds.\""
      ],
      "metadata": {
        "id": "oE7SRL1vaZ78"
      },
      "execution_count": null,
      "outputs": []
    },
    {
      "cell_type": "markdown",
      "source": [
        "# **Read Dataset**"
      ],
      "metadata": {
        "id": "K7WyZmDkosKp"
      }
    },
    {
      "cell_type": "code",
      "source": [
        "# import dataset\n",
        "url = 'https://raw.githubusercontent.com/jbrownlee/Datasets/master/adult-all.csv'\n",
        "\n",
        "df_raw = pd.read_csv(url,names=[\"Age\", \"Workclass\", \"Final Weight\", \"Education\", \"Education Number of Years\", \"Marital-status\",\n",
        "                            \"Occupation\", \"Relationship\", \"Race\", \"Sex\", \"Capital-gain\", \"Capital-loss\",\"Hours-per-week\", \"Native-country\",\n",
        "                            \"Target\"], na_values='?')"
      ],
      "metadata": {
        "id": "QeYUUmVUaiI3"
      },
      "execution_count": null,
      "outputs": []
    },
    {
      "cell_type": "code",
      "source": [
        "df=df_raw.copy()\n",
        "# let´s find rows with missing data\n",
        "na_columns=df.columns[df.isna().any()].tolist()\n",
        "# and replace them with the mode\n",
        "df[na_columns] = df[na_columns].apply(lambda x: x.fillna(x.mode()[0]))\n",
        "# drop Final Weight\n",
        "df.drop('Final Weight', axis=1, inplace=True)\n",
        "# drop Education as it correlates with Education Number of Years\n",
        "df.drop('Education', axis=1, inplace=True)\n",
        "# label encode target\n",
        "mapping={\"<=50K\":0,\n",
        "         '>50K':1}\n",
        "df.loc[:,\"Target\"]=df[\"Target\"].map(mapping)\n",
        "# identify feature list\n",
        "features=[f for f in df.columns if f not in (\"Target\")]\n",
        "# select categorical and numerical features\n",
        "cat_ix = df[features].select_dtypes(include=['object', 'bool']).columns\n",
        "num_ix = df[features].select_dtypes(include=['int64', 'float64']).columns"
      ],
      "metadata": {
        "id": "Z6HDf2qxanUG"
      },
      "execution_count": null,
      "outputs": []
    },
    {
      "cell_type": "markdown",
      "source": [
        "# **Pre-processing**"
      ],
      "metadata": {
        "id": "yUk4d_0doveb"
      }
    },
    {
      "cell_type": "code",
      "source": [
        "# simplifing no of categories\n",
        "# workclass will have only 4 (instead of 7)\n",
        "mapping_workclass={'State-gov':\"Public\",\n",
        "                   'Self-emp-not-inc':\"Self\",\n",
        "                   'Private':\"Private\",\n",
        "                   'Federal-gov':\"Public\",\n",
        "                   'Local-gov': \"Public\",\n",
        "                   'Self-emp-inc':\"Self\",\n",
        "                   \"Without-pay\":\"Without-pay\"}\n",
        "# marital status will have only 4 (instead of 7)                   \n",
        "mapping_marital={'Married-civ-spouse':\"Married\",\n",
        "                  'Married-spouse-absent':\"Divorced\",\n",
        "                  'Married-AF-spouse': \"Married\",\n",
        "                   'Never-married':\"Single\",\n",
        "                 'Separated':\"Divorced\",\n",
        "                 'Divorced':'Divorced',\n",
        "                 'Widowed':\"Widowed\"}\n",
        "df.loc[:,\"Workclass\"]=df[\"Workclass\"].map(mapping_workclass)\n",
        "df.loc[:,\"Marital-status\"]=df[\"Marital-status\"].map(mapping_marital)\n",
        "# simplify Native country \n",
        "not_us=df[\"Native-country\"].loc[df[\"Native-country\"]!='United-States'].to_list()\n",
        "df['Native-country']=df['Native-country'].replace(not_us,\"Not USA\")\n",
        "# simplify Race \n",
        "not_white=df[\"Race\"].loc[df[\"Race\"]!='White'].to_list()\n",
        "df['Race']=df['Race'].replace(not_white,\"Not Whites\")\n",
        "# # split the dataframe into X and y\n",
        "X=df.loc[:, df.columns != 'Target']\n",
        "y=df.loc[:,'Target']\n",
        "# perform train-test split\n",
        "X_train, X_test, y_train, y_test = train_test_split(X, y, test_size=0.2, random_state=42)"
      ],
      "metadata": {
        "id": "81SQDMh0aqT6"
      },
      "execution_count": null,
      "outputs": []
    },
    {
      "cell_type": "markdown",
      "source": [
        "# **HP-grid**"
      ],
      "metadata": {
        "id": "TNlaD25FoyxM"
      }
    },
    {
      "cell_type": "code",
      "source": [
        "# DEFINING HP GRIDS\n",
        "# parameter grid for XGB\n",
        "learning_rate_ = [.1,.3,.5]\n",
        "n_estimators_ = [50,100,200]\n",
        "max_depth_=[3,6]\n",
        "grid_xgb = dict(learning_rate=learning_rate_,\n",
        "            n_estimators=n_estimators_,\n",
        "            max_depth=max_depth_)\n",
        "# parameter grid for KNN\n",
        "n_neighbors_=[5,10,50]\n",
        "grid_knn = dict(n_neighbors=n_neighbors_)\n",
        "# parameter grid for SVM\n",
        "C_=[0.01,1.0,10.0]\n",
        "grid_svm = {'C':C_}\n",
        "# parameter grid for QDA\n",
        "reg_param_=[0.0]\n",
        "grid_qda=dict(reg_param=reg_param_)\n",
        "# parameter grid for LogRes\n",
        "C_=[0.01,0.1,1.0,10.0]\n",
        "penalty_=[\"l1\",\"l2\"]\n",
        "grid_lr=dict(C=C_,penalty=penalty_)\n",
        "# parameter grid for RFs\n",
        "n_estimators_=[100,300]\n",
        "max_depth_=[5,8,None]\n",
        "grid_rf=dict(n_estimators=n_estimators_,max_depth=max_depth_)\n",
        "# scoring metrics\n",
        "scoring = {'acc': 'accuracy',\n",
        "          'prec': 'precision',\n",
        "          'rec': 'recall',\n",
        "           'f1':'f1'}\n",
        "# initialize metric lists\n",
        "accuracy=[]\n",
        "precision=[]\n",
        "recall=[]\n",
        "f1=[]\n",
        "auc=[]\n",
        "names=[]\n",
        "runtime=[]\n",
        "cv_acc=[]\n",
        "cv_prec=[]\n",
        "cv_rec=[]\n",
        "cv_f1=[]"
      ],
      "metadata": {
        "id": "Mau9s-o84Lb6"
      },
      "execution_count": null,
      "outputs": []
    },
    {
      "cell_type": "markdown",
      "source": [
        "# **XGB**"
      ],
      "metadata": {
        "id": "XW6ystY9o1A6"
      }
    },
    {
      "cell_type": "code",
      "source": [
        "model=xgb.XGBClassifier(n_jobs=-1)\n",
        "name=\"xgb\"\n",
        "grid=grid_xgb\n",
        "# feature transformation for numericals\n",
        "num_pipeline=Pipeline([(\"minmax_scaler\",MinMaxScaler())])\n",
        "# apply MinMax to numericals and OneHot to categoricals\n",
        "transformation_pipeline=ColumnTransformer([(\"num\",num_pipeline,num_ix),\n",
        "                                           (\"cat\",OneHotEncoder(handle_unknown = \"ignore\"),cat_ix)])\n",
        "# NESTED CROSS-VALIDATION: inner folds for HP search, outer for generaliz.error\n",
        "# inner kfold for hp-search\n",
        "inner_kfold=StratifiedKFold(n_splits=3,shuffle=True,random_state=1)\n",
        "# invoke grid-search CV to search for best hp\n",
        "gscv= GridSearchCV(estimator=model,\n",
        "                param_grid = grid,\n",
        "                cv=inner_kfold,\n",
        "                scoring='f1',\n",
        "                verbose=0,\n",
        "                n_jobs=-1,\n",
        "                refit=True)\n",
        "# define model pipeline: data transformation then grid-search\n",
        "model_pipeline=Pipeline([(\"transformer\",transformation_pipeline),\n",
        "                         (\"model\",gscv)])\n",
        "# perform cross-validation to estimate generaliz.error\n",
        "skfold=StratifiedKFold(n_splits=5)\n",
        "start_time = timer(None)\n",
        "scores = cross_validate(model_pipeline, X_train, y_train, scoring=scoring, cv=skfold, n_jobs=-1)\n",
        "time_off=timer(start_time)\n",
        "# cross-validation metrics\n",
        "acc_cv=np.mean(scores['test_acc'])\n",
        "cv_acc.append(acc_cv)\n",
        "f1_cv=np.mean(scores['test_f1'])\n",
        "cv_f1.append(f1_cv)\n",
        "prec_cv=np.mean(scores['test_prec'])\n",
        "cv_prec.append(prec_cv)\n",
        "rec_cv=np.mean(scores['test_rec'])\n",
        "cv_rec.append(rec_cv)\n",
        "# fit pipeline on (X_train,y_train) to return best model\n",
        "model_pipeline.fit(X_train,y_train)\n",
        "# make preditions using best_model\n",
        "predictions=model_pipeline.predict(X_test)\n",
        "# store classification metrics\n",
        "names.append(name)\n",
        "accuracy.append(accuracy_score(y_test,predictions))\n",
        "precision.append(precision_score(y_test,predictions))\n",
        "recall.append(recall_score(y_test,predictions))\n",
        "f1.append(f1_score(y_test,predictions))\n",
        "auc.append(roc_auc_score(y_test,model_pipeline.predict_proba(X_test)[:,1]))\n",
        "runtime.append(time_off)\n",
        "print(\"################################################\")\n",
        "print(\"CROSS-VALIDATION METRICS\")\n",
        "print(f\"CV Accuracy for {name}: {np.round(acc_cv,3)}\")\n",
        "print(f\"CV Precision for {name}: {np.round(prec_cv,3)}\")\n",
        "print(f\"CV Recall for {name}: {np.round(rec_cv,3)}\")\n",
        "print(f\"CV F1 for {name}: {np.round(f1_cv,3)}\")\n",
        "print(\"################################################\")"
      ],
      "metadata": {
        "colab": {
          "base_uri": "https://localhost:8080/"
        },
        "id": "hCAB0jBT4O7Z",
        "outputId": "c6083067-aebf-4db3-8249-b0585faefc08"
      },
      "execution_count": null,
      "outputs": [
        {
          "output_type": "stream",
          "name": "stdout",
          "text": [
            "\n",
            " Time taken: 0 hours 13 minutes and 22.3 seconds.\n",
            "################################################\n",
            "CROSS-VALIDATION METRICS\n",
            "CV Accuracy for xgb: 0.871\n",
            "CV Precision for xgb: 0.776\n",
            "CV Recall for xgb: 0.646\n",
            "CV F1 for xgb: 0.705\n",
            "################################################\n"
          ]
        }
      ]
    },
    {
      "cell_type": "markdown",
      "source": [
        "# **KNN**"
      ],
      "metadata": {
        "id": "6EIVZe7ro3HT"
      }
    },
    {
      "cell_type": "code",
      "source": [
        "model=KNeighborsClassifier()\n",
        "name=\"knn\"\n",
        "grid=grid_knn\n",
        "# feature transformation for numericals\n",
        "num_pipeline=Pipeline([(\"minmax_scaler\",MinMaxScaler())])\n",
        "# apply MinMax to numericals and OneHot to categoricals\n",
        "transformation_pipeline=ColumnTransformer([(\"num\",num_pipeline,num_ix),\n",
        "                                           (\"cat\",OneHotEncoder(handle_unknown = \"ignore\"),cat_ix)])\n",
        "# NESTED CROSS-VALIDATION: inner folds for HP search, outer for generaliz.error\n",
        "# inner kfold for hp-search\n",
        "inner_kfold=StratifiedKFold(n_splits=3,shuffle=True,random_state=1)\n",
        "# invoke grid-search CV to search for best hp\n",
        "gscv= GridSearchCV(estimator=model,\n",
        "                param_grid = grid,\n",
        "                cv=inner_kfold,\n",
        "                scoring='f1',\n",
        "                verbose=0,\n",
        "                n_jobs=-1,\n",
        "                refit=True)\n",
        "# define model pipeline: data transformation then grid-search\n",
        "model_pipeline=Pipeline([(\"transformer\",transformation_pipeline),\n",
        "                         (\"model\",gscv)])\n",
        "# perform cross-validation to estimate generaliz.error\n",
        "skfold=StratifiedKFold(n_splits=5)\n",
        "start_time = timer(None)\n",
        "scores = cross_validate(model_pipeline, X_train, y_train, scoring=scoring, cv=skfold, n_jobs=-1)\n",
        "time_off=timer(start_time)\n",
        "# cross-validation metrics\n",
        "acc_cv=np.mean(scores['test_acc'])\n",
        "cv_acc.append(acc_cv)\n",
        "f1_cv=np.mean(scores['test_f1'])\n",
        "cv_f1.append(f1_cv)\n",
        "prec_cv=np.mean(scores['test_prec'])\n",
        "cv_prec.append(prec_cv)\n",
        "rec_cv=np.mean(scores['test_rec'])\n",
        "cv_rec.append(rec_cv)\n",
        "# fit pipeline on (X_train,y_train) to return best model\n",
        "model_pipeline.fit(X_train,y_train)\n",
        "# make preditions using best_model\n",
        "predictions=model_pipeline.predict(X_test)\n",
        "# store classification metrics\n",
        "names.append(name)\n",
        "accuracy.append(accuracy_score(y_test,predictions))\n",
        "precision.append(precision_score(y_test,predictions))\n",
        "recall.append(recall_score(y_test,predictions))\n",
        "f1.append(f1_score(y_test,predictions))\n",
        "auc.append(roc_auc_score(y_test,model_pipeline.predict_proba(X_test)[:,1]))\n",
        "runtime.append(time_off)\n",
        "print(\"################################################\")\n",
        "print(\"CROSS-VALIDATION METRICS\")\n",
        "print(f\"CV Accuracy for {name}: {np.round(acc_cv,3)}\")\n",
        "print(f\"CV Precision for {name}: {np.round(prec_cv,3)}\")\n",
        "print(f\"CV Recall for {name}: {np.round(rec_cv,3)}\")\n",
        "print(f\"CV F1 for {name}: {np.round(f1_cv,3)}\")\n",
        "print(\"################################################\")"
      ],
      "metadata": {
        "colab": {
          "base_uri": "https://localhost:8080/"
        },
        "id": "sOOFu2sj4SR7",
        "outputId": "ab0a85dc-3867-43c2-8010-8a0b8cb29ec3"
      },
      "execution_count": null,
      "outputs": [
        {
          "output_type": "stream",
          "name": "stderr",
          "text": [
            "/usr/local/lib/python3.7/dist-packages/joblib/externals/loky/process_executor.py:705: UserWarning: A worker stopped while some jobs were given to the executor. This can be caused by a too short worker timeout or by a memory leak.\n",
            "  \"timeout or by a memory leak.\", UserWarning\n"
          ]
        },
        {
          "output_type": "stream",
          "name": "stdout",
          "text": [
            "\n",
            " Time taken: 0 hours 3 minutes and 16.41 seconds.\n"
          ]
        },
        {
          "output_type": "stream",
          "name": "stderr",
          "text": [
            "/usr/local/lib/python3.7/dist-packages/joblib/externals/loky/process_executor.py:705: UserWarning: A worker stopped while some jobs were given to the executor. This can be caused by a too short worker timeout or by a memory leak.\n",
            "  \"timeout or by a memory leak.\", UserWarning\n"
          ]
        },
        {
          "output_type": "stream",
          "name": "stdout",
          "text": [
            "################################################\n",
            "CROSS-VALIDATION METRICS\n",
            "CV Accuracy for knn: 0.832\n",
            "CV Precision for knn: 0.687\n",
            "CV Recall for knn: 0.544\n",
            "CV F1 for knn: 0.607\n",
            "################################################\n"
          ]
        }
      ]
    },
    {
      "cell_type": "markdown",
      "source": [
        "# **Logistic Regression**"
      ],
      "metadata": {
        "id": "ogFqj9Imo5PL"
      }
    },
    {
      "cell_type": "code",
      "source": [
        "from sklearn.preprocessing import FunctionTransformer\n",
        "model=LogisticRegression()\n",
        "name=\"lr\"\n",
        "grid=grid_lr\n",
        "# feature transformation for numericals\n",
        "num_pipeline=Pipeline([(\"minmax_scaler\",MinMaxScaler())])\n",
        "# apply MinMax to numericals and OneHot to categoricals\n",
        "transformation_pipeline=ColumnTransformer([(\"num\",num_pipeline,num_ix),\n",
        "                                           (\"cat\",OneHotEncoder(handle_unknown = \"ignore\"),cat_ix)])\n",
        "# NESTED CROSS-VALIDATION: inner folds for HP search, outer for generaliz.error\n",
        "# inner kfold for hp-search\n",
        "inner_kfold=StratifiedKFold(n_splits=3,shuffle=True,random_state=1)\n",
        "# invoke grid-search CV to search for best hp\n",
        "gscv= GridSearchCV(estimator=model,\n",
        "                param_grid = grid,\n",
        "                cv=inner_kfold,\n",
        "                scoring='f1',\n",
        "                verbose=0,\n",
        "                n_jobs=-1,\n",
        "                refit=True)\n",
        "# define model pipeline: data transformation then grid-search\n",
        "model_pipeline=Pipeline([(\"transformer\",transformation_pipeline),\n",
        "                         (\"model\",gscv)])\n",
        "# perform cross-validation to estimate generaliz.error\n",
        "skfold=StratifiedKFold(n_splits=5)\n",
        "start_time = timer(None)\n",
        "scores = cross_validate(model_pipeline, X_train, y_train, scoring=scoring, cv=skfold, n_jobs=-1)\n",
        "time_off=timer(start_time)\n",
        "# cross-validation metrics\n",
        "acc_cv=np.mean(scores['test_acc'])\n",
        "cv_acc.append(acc_cv)\n",
        "f1_cv=np.mean(scores['test_f1'])\n",
        "cv_f1.append(f1_cv)\n",
        "prec_cv=np.mean(scores['test_prec'])\n",
        "cv_prec.append(prec_cv)\n",
        "rec_cv=np.mean(scores['test_rec'])\n",
        "cv_rec.append(rec_cv)\n",
        "# fit pipeline on (X_train,y_train) to return best model\n",
        "model_pipeline.fit(X_train,y_train)\n",
        "# make preditions using best_model\n",
        "predictions=model_pipeline.predict(X_test)\n",
        "# store classification metrics\n",
        "names.append(name)\n",
        "accuracy.append(accuracy_score(y_test,predictions))\n",
        "precision.append(precision_score(y_test,predictions))\n",
        "recall.append(recall_score(y_test,predictions))\n",
        "f1.append(f1_score(y_test,predictions))\n",
        "auc.append(roc_auc_score(y_test,model_pipeline.predict_proba(X_test)[:,1]))\n",
        "runtime.append(time_off)\n",
        "print(\"################################################\")\n",
        "print(\"CROSS-VALIDATION METRICS\")\n",
        "print(f\"CV Accuracy for {name}: {np.round(acc_cv,3)}\")\n",
        "print(f\"CV Precision for {name}: {np.round(prec_cv,3)}\")\n",
        "print(f\"CV Recall for {name}: {np.round(rec_cv,3)}\")\n",
        "print(f\"CV F1 for {name}: {np.round(f1_cv,3)}\")\n",
        "print(\"################################################\")"
      ],
      "metadata": {
        "colab": {
          "base_uri": "https://localhost:8080/"
        },
        "id": "y9Eiu6UF4Xfx",
        "outputId": "a9fe4f27-0a34-4774-82fa-d769767b7a46"
      },
      "execution_count": null,
      "outputs": [
        {
          "output_type": "stream",
          "name": "stdout",
          "text": [
            "\n",
            " Time taken: 0 hours 0 minutes and 18.34 seconds.\n"
          ]
        },
        {
          "output_type": "stream",
          "name": "stderr",
          "text": [
            "/usr/local/lib/python3.7/dist-packages/sklearn/model_selection/_validation.py:372: FitFailedWarning: \n",
            "12 fits failed out of a total of 24.\n",
            "The score on these train-test partitions for these parameters will be set to nan.\n",
            "If these failures are not expected, you can try to debug them by setting error_score='raise'.\n",
            "\n",
            "Below are more details about the failures:\n",
            "--------------------------------------------------------------------------------\n",
            "12 fits failed with the following error:\n",
            "Traceback (most recent call last):\n",
            "  File \"/usr/local/lib/python3.7/dist-packages/sklearn/model_selection/_validation.py\", line 680, in _fit_and_score\n",
            "    estimator.fit(X_train, y_train, **fit_params)\n",
            "  File \"/usr/local/lib/python3.7/dist-packages/sklearn/linear_model/_logistic.py\", line 1461, in fit\n",
            "    solver = _check_solver(self.solver, self.penalty, self.dual)\n",
            "  File \"/usr/local/lib/python3.7/dist-packages/sklearn/linear_model/_logistic.py\", line 449, in _check_solver\n",
            "    % (solver, penalty)\n",
            "ValueError: Solver lbfgs supports only 'l2' or 'none' penalties, got l1 penalty.\n",
            "\n",
            "  warnings.warn(some_fits_failed_message, FitFailedWarning)\n",
            "/usr/local/lib/python3.7/dist-packages/sklearn/model_selection/_search.py:972: UserWarning: One or more of the test scores are non-finite: [       nan 0.58601429        nan 0.62325818        nan 0.64735461\n",
            "        nan 0.65393571]\n",
            "  category=UserWarning,\n"
          ]
        },
        {
          "output_type": "stream",
          "name": "stdout",
          "text": [
            "################################################\n",
            "CROSS-VALIDATION METRICS\n",
            "CV Accuracy for lr: 0.85\n",
            "CV Precision for lr: 0.729\n",
            "CV Recall for lr: 0.593\n",
            "CV F1 for lr: 0.654\n",
            "################################################\n"
          ]
        },
        {
          "output_type": "stream",
          "name": "stderr",
          "text": [
            "/usr/local/lib/python3.7/dist-packages/sklearn/linear_model/_logistic.py:818: ConvergenceWarning: lbfgs failed to converge (status=1):\n",
            "STOP: TOTAL NO. of ITERATIONS REACHED LIMIT.\n",
            "\n",
            "Increase the number of iterations (max_iter) or scale the data as shown in:\n",
            "    https://scikit-learn.org/stable/modules/preprocessing.html\n",
            "Please also refer to the documentation for alternative solver options:\n",
            "    https://scikit-learn.org/stable/modules/linear_model.html#logistic-regression\n",
            "  extra_warning_msg=_LOGISTIC_SOLVER_CONVERGENCE_MSG,\n"
          ]
        }
      ]
    },
    {
      "cell_type": "markdown",
      "source": [
        "# **SVM**"
      ],
      "metadata": {
        "id": "96wR-WVvo8X9"
      }
    },
    {
      "cell_type": "code",
      "source": [
        "from sklearn.calibration import CalibratedClassifierCV\n",
        "model=LinearSVC()\n",
        "name=\"svm\"\n",
        "grid=grid_svm\n",
        "# feature transformation for numericals\n",
        "num_pipeline=Pipeline([(\"minmax_scaler\",StandardScaler())])\n",
        "# apply MinMax to numericals and OneHot to categoricals\n",
        "transformation_pipeline=ColumnTransformer([(\"num\",num_pipeline,num_ix),\n",
        "                                           (\"cat\",OneHotEncoder(handle_unknown = \"ignore\"),cat_ix)])\n",
        "# NESTED CROSS-VALIDATION: inner folds for HP search, outer for generaliz.error\n",
        "# inner kfold for hp-search\n",
        "inner_kfold=StratifiedKFold(n_splits=3,shuffle=True,random_state=1)\n",
        "# invoke grid-search CV to search for best hp\n",
        "gscv= GridSearchCV(estimator=model,\n",
        "                param_grid = grid,\n",
        "                cv=inner_kfold,\n",
        "                scoring='f1',\n",
        "                verbose=0,\n",
        "                n_jobs=-1,\n",
        "                refit=True)\n",
        "gscv=CalibratedClassifierCV(gscv)\n",
        "# define model pipeline: data transformation then grid-search\n",
        "model_pipeline=Pipeline([(\"transformer\",transformation_pipeline),\n",
        "                         (\"model\",gscv)])\n",
        "# perform cross-validation to estimate generaliz.error\n",
        "skfold=StratifiedKFold(n_splits=5)\n",
        "start_time = timer(None)\n",
        "scores = cross_validate(model_pipeline, X_train, y_train, scoring=scoring, cv=skfold, n_jobs=-1)\n",
        "time_off=timer(start_time)\n",
        "# cross-validation metrics\n",
        "acc_cv=np.mean(scores['test_acc'])\n",
        "cv_acc.append(acc_cv)\n",
        "f1_cv=np.mean(scores['test_f1'])\n",
        "cv_f1.append(f1_cv)\n",
        "prec_cv=np.mean(scores['test_prec'])\n",
        "cv_prec.append(prec_cv)\n",
        "rec_cv=np.mean(scores['test_rec'])\n",
        "cv_rec.append(rec_cv)\n",
        "# fit pipeline on (X_train,y_train) to return best model\n",
        "model_pipeline.fit(X_train,y_train)\n",
        "# make preditions using best_model\n",
        "predictions=model_pipeline.predict(X_test)\n",
        "# store classification metrics\n",
        "names.append(name)\n",
        "accuracy.append(accuracy_score(y_test,predictions))\n",
        "precision.append(precision_score(y_test,predictions))\n",
        "recall.append(recall_score(y_test,predictions))\n",
        "f1.append(f1_score(y_test,predictions))\n",
        "auc.append(roc_auc_score(y_test,model_pipeline.predict_proba(X_test)[:,1]))\n",
        "runtime.append(time_off)\n",
        "print(\"################################################\")\n",
        "print(\"CROSS-VALIDATION METRICS\")\n",
        "print(f\"CV Accuracy for {name}: {np.round(acc_cv,3)}\")\n",
        "print(f\"CV Precision for {name}: {np.round(prec_cv,3)}\")\n",
        "print(f\"CV Recall for {name}: {np.round(rec_cv,3)}\")\n",
        "print(f\"CV F1 for {name}: {np.round(f1_cv,3)}\")\n",
        "print(\"################################################\")"
      ],
      "metadata": {
        "colab": {
          "base_uri": "https://localhost:8080/"
        },
        "id": "BLN1Vl014bbB",
        "outputId": "91f6c435-88e4-4a61-b474-36db81047271"
      },
      "execution_count": null,
      "outputs": [
        {
          "output_type": "stream",
          "name": "stdout",
          "text": [
            "\n",
            " Time taken: 0 hours 4 minutes and 19.77 seconds.\n"
          ]
        },
        {
          "output_type": "stream",
          "name": "stderr",
          "text": [
            "/usr/local/lib/python3.7/dist-packages/sklearn/svm/_base.py:1208: ConvergenceWarning: Liblinear failed to converge, increase the number of iterations.\n",
            "  ConvergenceWarning,\n",
            "/usr/local/lib/python3.7/dist-packages/sklearn/svm/_base.py:1208: ConvergenceWarning: Liblinear failed to converge, increase the number of iterations.\n",
            "  ConvergenceWarning,\n",
            "/usr/local/lib/python3.7/dist-packages/sklearn/svm/_base.py:1208: ConvergenceWarning: Liblinear failed to converge, increase the number of iterations.\n",
            "  ConvergenceWarning,\n",
            "/usr/local/lib/python3.7/dist-packages/sklearn/svm/_base.py:1208: ConvergenceWarning: Liblinear failed to converge, increase the number of iterations.\n",
            "  ConvergenceWarning,\n",
            "/usr/local/lib/python3.7/dist-packages/sklearn/svm/_base.py:1208: ConvergenceWarning: Liblinear failed to converge, increase the number of iterations.\n",
            "  ConvergenceWarning,\n"
          ]
        },
        {
          "output_type": "stream",
          "name": "stdout",
          "text": [
            "################################################\n",
            "CROSS-VALIDATION METRICS\n",
            "CV Accuracy for svm: 0.851\n",
            "CV Precision for svm: 0.731\n",
            "CV Recall for svm: 0.593\n",
            "CV F1 for svm: 0.654\n",
            "################################################\n"
          ]
        }
      ]
    },
    {
      "cell_type": "markdown",
      "source": [
        "# **Random Forest**"
      ],
      "metadata": {
        "id": "txnmoZjSo-wd"
      }
    },
    {
      "cell_type": "code",
      "source": [
        "from sklearn.ensemble import RandomForestClassifier\n",
        "model=RandomForestClassifier()\n",
        "name=\"rf\"\n",
        "grid=grid_rf\n",
        "# feature transformation for numericals\n",
        "num_pipeline=Pipeline([(\"minmax_scaler\",MinMaxScaler())])\n",
        "# apply MinMax to numericals and OneHot to categoricals\n",
        "transformation_pipeline=ColumnTransformer([(\"num\",num_pipeline,num_ix),\n",
        "                                           (\"cat\",OneHotEncoder(handle_unknown = \"ignore\"),cat_ix)])\n",
        "# NESTED CROSS-VALIDATION: inner folds for HP search, outer for generaliz.error\n",
        "# inner kfold for hp-search\n",
        "inner_kfold=StratifiedKFold(n_splits=3,shuffle=True,random_state=1)\n",
        "# invoke grid-search CV to search for best hp\n",
        "gscv= GridSearchCV(estimator=model,\n",
        "                param_grid = grid,\n",
        "                cv=inner_kfold,\n",
        "                scoring='f1',\n",
        "                verbose=0,\n",
        "                n_jobs=-1,\n",
        "                refit=True)\n",
        "# define model pipeline: data transformation then grid-search\n",
        "model_pipeline=Pipeline([(\"transformer\",transformation_pipeline),\n",
        "                         (\"model\",gscv)])\n",
        "# perform cross-validation to estimate generaliz.error\n",
        "skfold=StratifiedKFold(n_splits=5)\n",
        "start_time = timer(None)\n",
        "scores = cross_validate(model_pipeline, X_train, y_train, scoring=scoring, cv=skfold, n_jobs=-1)\n",
        "time_off=timer(start_time)\n",
        "# cross-validation metrics\n",
        "acc_cv=np.mean(scores['test_acc'])\n",
        "cv_acc.append(acc_cv)\n",
        "f1_cv=np.mean(scores['test_f1'])\n",
        "cv_f1.append(f1_cv)\n",
        "prec_cv=np.mean(scores['test_prec'])\n",
        "cv_prec.append(prec_cv)\n",
        "rec_cv=np.mean(scores['test_rec'])\n",
        "cv_rec.append(rec_cv)\n",
        "# fit pipeline on (X_train,y_train) to return best model\n",
        "model_pipeline.fit(X_train,y_train)\n",
        "# make preditions using best_model\n",
        "predictions=model_pipeline.predict(X_test)\n",
        "# store classification metrics\n",
        "names.append(name)\n",
        "accuracy.append(accuracy_score(y_test,predictions))\n",
        "precision.append(precision_score(y_test,predictions))\n",
        "recall.append(recall_score(y_test,predictions))\n",
        "f1.append(f1_score(y_test,predictions))\n",
        "auc.append(roc_auc_score(y_test,model_pipeline.predict_proba(X_test)[:,1]))\n",
        "runtime.append(time_off)\n",
        "print(\"################################################\")\n",
        "print(\"CROSS-VALIDATION METRICS\")\n",
        "print(f\"CV Accuracy for {name}: {np.round(acc_cv,3)}\")\n",
        "print(f\"CV Precision for {name}: {np.round(prec_cv,3)}\")\n",
        "print(f\"CV Recall for {name}: {np.round(rec_cv,3)}\")\n",
        "print(f\"CV F1 for {name}: {np.round(f1_cv,3)}\")\n",
        "print(\"################################################\")"
      ],
      "metadata": {
        "colab": {
          "base_uri": "https://localhost:8080/"
        },
        "id": "wOQhMtlr4ejJ",
        "outputId": "16341f68-29c7-4f71-d3f0-1c0234ec5f70"
      },
      "execution_count": null,
      "outputs": [
        {
          "output_type": "stream",
          "name": "stdout",
          "text": [
            "\n",
            " Time taken: 0 hours 4 minutes and 2.12 seconds.\n",
            "################################################\n",
            "CROSS-VALIDATION METRICS\n",
            "CV Accuracy for rf: 0.846\n",
            "CV Precision for rf: 0.704\n",
            "CV Recall for rf: 0.613\n",
            "CV F1 for rf: 0.656\n",
            "################################################\n"
          ]
        }
      ]
    },
    {
      "cell_type": "markdown",
      "source": [
        "# **Results Test Set**"
      ],
      "metadata": {
        "id": "dBT4PWjgpUnW"
      }
    },
    {
      "cell_type": "code",
      "source": [
        "results=np.column_stack((names,accuracy,precision,recall,f1,auc,runtime))  \n",
        "results_df=pd.DataFrame(results)\n",
        "results_df.columns=[\"name\",\"accuracy\",\"precision\",\"recall\",\"f1\",\"auc\",\"runtime\"]\n",
        "results_df.to_excel(\"results_test.xlsx\")\n",
        "results_df.head(results_df.shape[0])"
      ],
      "metadata": {
        "colab": {
          "base_uri": "https://localhost:8080/",
          "height": 250
        },
        "id": "BfRPZS714haC",
        "outputId": "d947f4d1-e1b6-4447-c94a-18e2718ada17"
      },
      "execution_count": null,
      "outputs": [
        {
          "output_type": "execute_result",
          "data": {
            "text/plain": [
              "  name            accuracy           precision              recall  \\\n",
              "0  xgb  0.8741938785955574  0.7914078674948241  0.6492569002123142   \n",
              "1  knn  0.8196335346504248  0.6510443199184921  0.5426751592356688   \n",
              "2   lr  0.8499334629951889  0.7406605305901461  0.5808917197452229   \n",
              "3  svm  0.8509571092230526   0.744426318651441  0.5813163481953291   \n",
              "4   rf  0.8437915856280069  0.7057071960297767  0.6038216560509554   \n",
              "\n",
              "                   f1                 auc  \\\n",
              "0  0.7133193375320738  0.9263397932527948   \n",
              "1  0.5919407132931912   0.837972545199104   \n",
              "2  0.6511185149928606   0.902584454612465   \n",
              "3  0.6528373867429661  0.9025823354793852   \n",
              "4  0.6508009153318078  0.8910669663235389   \n",
              "\n",
              "                                    runtime  \n",
              "0  0.0 hours 13.0 minutes and 22.3 seconds.  \n",
              "1  0.0 hours 3.0 minutes and 16.41 seconds.  \n",
              "2  0.0 hours 0.0 minutes and 18.34 seconds.  \n",
              "3  0.0 hours 4.0 minutes and 19.77 seconds.  \n",
              "4   0.0 hours 4.0 minutes and 2.12 seconds.  "
            ],
            "text/html": [
              "\n",
              "  <div id=\"df-b5619e4e-24d0-4797-9f40-1999cf8d377f\">\n",
              "    <div class=\"colab-df-container\">\n",
              "      <div>\n",
              "<style scoped>\n",
              "    .dataframe tbody tr th:only-of-type {\n",
              "        vertical-align: middle;\n",
              "    }\n",
              "\n",
              "    .dataframe tbody tr th {\n",
              "        vertical-align: top;\n",
              "    }\n",
              "\n",
              "    .dataframe thead th {\n",
              "        text-align: right;\n",
              "    }\n",
              "</style>\n",
              "<table border=\"1\" class=\"dataframe\">\n",
              "  <thead>\n",
              "    <tr style=\"text-align: right;\">\n",
              "      <th></th>\n",
              "      <th>name</th>\n",
              "      <th>accuracy</th>\n",
              "      <th>precision</th>\n",
              "      <th>recall</th>\n",
              "      <th>f1</th>\n",
              "      <th>auc</th>\n",
              "      <th>runtime</th>\n",
              "    </tr>\n",
              "  </thead>\n",
              "  <tbody>\n",
              "    <tr>\n",
              "      <th>0</th>\n",
              "      <td>xgb</td>\n",
              "      <td>0.8741938785955574</td>\n",
              "      <td>0.7914078674948241</td>\n",
              "      <td>0.6492569002123142</td>\n",
              "      <td>0.7133193375320738</td>\n",
              "      <td>0.9263397932527948</td>\n",
              "      <td>0.0 hours 13.0 minutes and 22.3 seconds.</td>\n",
              "    </tr>\n",
              "    <tr>\n",
              "      <th>1</th>\n",
              "      <td>knn</td>\n",
              "      <td>0.8196335346504248</td>\n",
              "      <td>0.6510443199184921</td>\n",
              "      <td>0.5426751592356688</td>\n",
              "      <td>0.5919407132931912</td>\n",
              "      <td>0.837972545199104</td>\n",
              "      <td>0.0 hours 3.0 minutes and 16.41 seconds.</td>\n",
              "    </tr>\n",
              "    <tr>\n",
              "      <th>2</th>\n",
              "      <td>lr</td>\n",
              "      <td>0.8499334629951889</td>\n",
              "      <td>0.7406605305901461</td>\n",
              "      <td>0.5808917197452229</td>\n",
              "      <td>0.6511185149928606</td>\n",
              "      <td>0.902584454612465</td>\n",
              "      <td>0.0 hours 0.0 minutes and 18.34 seconds.</td>\n",
              "    </tr>\n",
              "    <tr>\n",
              "      <th>3</th>\n",
              "      <td>svm</td>\n",
              "      <td>0.8509571092230526</td>\n",
              "      <td>0.744426318651441</td>\n",
              "      <td>0.5813163481953291</td>\n",
              "      <td>0.6528373867429661</td>\n",
              "      <td>0.9025823354793852</td>\n",
              "      <td>0.0 hours 4.0 minutes and 19.77 seconds.</td>\n",
              "    </tr>\n",
              "    <tr>\n",
              "      <th>4</th>\n",
              "      <td>rf</td>\n",
              "      <td>0.8437915856280069</td>\n",
              "      <td>0.7057071960297767</td>\n",
              "      <td>0.6038216560509554</td>\n",
              "      <td>0.6508009153318078</td>\n",
              "      <td>0.8910669663235389</td>\n",
              "      <td>0.0 hours 4.0 minutes and 2.12 seconds.</td>\n",
              "    </tr>\n",
              "  </tbody>\n",
              "</table>\n",
              "</div>\n",
              "      <button class=\"colab-df-convert\" onclick=\"convertToInteractive('df-b5619e4e-24d0-4797-9f40-1999cf8d377f')\"\n",
              "              title=\"Convert this dataframe to an interactive table.\"\n",
              "              style=\"display:none;\">\n",
              "        \n",
              "  <svg xmlns=\"http://www.w3.org/2000/svg\" height=\"24px\"viewBox=\"0 0 24 24\"\n",
              "       width=\"24px\">\n",
              "    <path d=\"M0 0h24v24H0V0z\" fill=\"none\"/>\n",
              "    <path d=\"M18.56 5.44l.94 2.06.94-2.06 2.06-.94-2.06-.94-.94-2.06-.94 2.06-2.06.94zm-11 1L8.5 8.5l.94-2.06 2.06-.94-2.06-.94L8.5 2.5l-.94 2.06-2.06.94zm10 10l.94 2.06.94-2.06 2.06-.94-2.06-.94-.94-2.06-.94 2.06-2.06.94z\"/><path d=\"M17.41 7.96l-1.37-1.37c-.4-.4-.92-.59-1.43-.59-.52 0-1.04.2-1.43.59L10.3 9.45l-7.72 7.72c-.78.78-.78 2.05 0 2.83L4 21.41c.39.39.9.59 1.41.59.51 0 1.02-.2 1.41-.59l7.78-7.78 2.81-2.81c.8-.78.8-2.07 0-2.86zM5.41 20L4 18.59l7.72-7.72 1.47 1.35L5.41 20z\"/>\n",
              "  </svg>\n",
              "      </button>\n",
              "      \n",
              "  <style>\n",
              "    .colab-df-container {\n",
              "      display:flex;\n",
              "      flex-wrap:wrap;\n",
              "      gap: 12px;\n",
              "    }\n",
              "\n",
              "    .colab-df-convert {\n",
              "      background-color: #E8F0FE;\n",
              "      border: none;\n",
              "      border-radius: 50%;\n",
              "      cursor: pointer;\n",
              "      display: none;\n",
              "      fill: #1967D2;\n",
              "      height: 32px;\n",
              "      padding: 0 0 0 0;\n",
              "      width: 32px;\n",
              "    }\n",
              "\n",
              "    .colab-df-convert:hover {\n",
              "      background-color: #E2EBFA;\n",
              "      box-shadow: 0px 1px 2px rgba(60, 64, 67, 0.3), 0px 1px 3px 1px rgba(60, 64, 67, 0.15);\n",
              "      fill: #174EA6;\n",
              "    }\n",
              "\n",
              "    [theme=dark] .colab-df-convert {\n",
              "      background-color: #3B4455;\n",
              "      fill: #D2E3FC;\n",
              "    }\n",
              "\n",
              "    [theme=dark] .colab-df-convert:hover {\n",
              "      background-color: #434B5C;\n",
              "      box-shadow: 0px 1px 3px 1px rgba(0, 0, 0, 0.15);\n",
              "      filter: drop-shadow(0px 1px 2px rgba(0, 0, 0, 0.3));\n",
              "      fill: #FFFFFF;\n",
              "    }\n",
              "  </style>\n",
              "\n",
              "      <script>\n",
              "        const buttonEl =\n",
              "          document.querySelector('#df-b5619e4e-24d0-4797-9f40-1999cf8d377f button.colab-df-convert');\n",
              "        buttonEl.style.display =\n",
              "          google.colab.kernel.accessAllowed ? 'block' : 'none';\n",
              "\n",
              "        async function convertToInteractive(key) {\n",
              "          const element = document.querySelector('#df-b5619e4e-24d0-4797-9f40-1999cf8d377f');\n",
              "          const dataTable =\n",
              "            await google.colab.kernel.invokeFunction('convertToInteractive',\n",
              "                                                     [key], {});\n",
              "          if (!dataTable) return;\n",
              "\n",
              "          const docLinkHtml = 'Like what you see? Visit the ' +\n",
              "            '<a target=\"_blank\" href=https://colab.research.google.com/notebooks/data_table.ipynb>data table notebook</a>'\n",
              "            + ' to learn more about interactive tables.';\n",
              "          element.innerHTML = '';\n",
              "          dataTable['output_type'] = 'display_data';\n",
              "          await google.colab.output.renderOutput(dataTable, element);\n",
              "          const docLink = document.createElement('div');\n",
              "          docLink.innerHTML = docLinkHtml;\n",
              "          element.appendChild(docLink);\n",
              "        }\n",
              "      </script>\n",
              "    </div>\n",
              "  </div>\n",
              "  "
            ]
          },
          "metadata": {},
          "execution_count": 32
        }
      ]
    },
    {
      "cell_type": "markdown",
      "source": [
        "# **Results CV**"
      ],
      "metadata": {
        "id": "qkioWm5fpXkW"
      }
    },
    {
      "cell_type": "code",
      "source": [
        "results_cv=np.column_stack((names,cv_acc,cv_prec,cv_rec,cv_f1))  \n",
        "resultscv_df=pd.DataFrame(results_cv)\n",
        "resultscv_df.columns=[\"name\",\"accuracy\",\"precision\",\"recall\",\"f1\"]\n",
        "resultscv_df.to_excel(\"results_cv.xlsx\")\n",
        "resultscv_df.head(resultscv_df.shape[0])"
      ],
      "metadata": {
        "colab": {
          "base_uri": "https://localhost:8080/",
          "height": 206
        },
        "id": "7qlLEbWb4lKZ",
        "outputId": "2fbe2aac-d02e-4e90-b297-071c4939e90f"
      },
      "execution_count": null,
      "outputs": [
        {
          "output_type": "execute_result",
          "data": {
            "text/plain": [
              "  name            accuracy           precision              recall  \\\n",
              "0  xgb  0.8710105440945357  0.7761371205850703  0.6463761351756777   \n",
              "1  knn  0.8315459349911023  0.6866795181430818  0.5437176181791148   \n",
              "2   lr  0.8502801327276321   0.729376869914389  0.5932256584865703   \n",
              "3  svm  0.8505616622951964    0.73080800716529   0.592582743894493   \n",
              "4   rf  0.8461341120265626  0.7042387040729927   0.613372726849994   \n",
              "\n",
              "                   f1  \n",
              "0  0.7053088603455635  \n",
              "1  0.6065720039253542  \n",
              "2  0.6542673866269016  \n",
              "3  0.6544568974666749  \n",
              "4  0.6556561205843432  "
            ],
            "text/html": [
              "\n",
              "  <div id=\"df-158a7b92-c08f-4449-99d8-e97ff6f0fc01\">\n",
              "    <div class=\"colab-df-container\">\n",
              "      <div>\n",
              "<style scoped>\n",
              "    .dataframe tbody tr th:only-of-type {\n",
              "        vertical-align: middle;\n",
              "    }\n",
              "\n",
              "    .dataframe tbody tr th {\n",
              "        vertical-align: top;\n",
              "    }\n",
              "\n",
              "    .dataframe thead th {\n",
              "        text-align: right;\n",
              "    }\n",
              "</style>\n",
              "<table border=\"1\" class=\"dataframe\">\n",
              "  <thead>\n",
              "    <tr style=\"text-align: right;\">\n",
              "      <th></th>\n",
              "      <th>name</th>\n",
              "      <th>accuracy</th>\n",
              "      <th>precision</th>\n",
              "      <th>recall</th>\n",
              "      <th>f1</th>\n",
              "    </tr>\n",
              "  </thead>\n",
              "  <tbody>\n",
              "    <tr>\n",
              "      <th>0</th>\n",
              "      <td>xgb</td>\n",
              "      <td>0.8710105440945357</td>\n",
              "      <td>0.7761371205850703</td>\n",
              "      <td>0.6463761351756777</td>\n",
              "      <td>0.7053088603455635</td>\n",
              "    </tr>\n",
              "    <tr>\n",
              "      <th>1</th>\n",
              "      <td>knn</td>\n",
              "      <td>0.8315459349911023</td>\n",
              "      <td>0.6866795181430818</td>\n",
              "      <td>0.5437176181791148</td>\n",
              "      <td>0.6065720039253542</td>\n",
              "    </tr>\n",
              "    <tr>\n",
              "      <th>2</th>\n",
              "      <td>lr</td>\n",
              "      <td>0.8502801327276321</td>\n",
              "      <td>0.729376869914389</td>\n",
              "      <td>0.5932256584865703</td>\n",
              "      <td>0.6542673866269016</td>\n",
              "    </tr>\n",
              "    <tr>\n",
              "      <th>3</th>\n",
              "      <td>svm</td>\n",
              "      <td>0.8505616622951964</td>\n",
              "      <td>0.73080800716529</td>\n",
              "      <td>0.592582743894493</td>\n",
              "      <td>0.6544568974666749</td>\n",
              "    </tr>\n",
              "    <tr>\n",
              "      <th>4</th>\n",
              "      <td>rf</td>\n",
              "      <td>0.8461341120265626</td>\n",
              "      <td>0.7042387040729927</td>\n",
              "      <td>0.613372726849994</td>\n",
              "      <td>0.6556561205843432</td>\n",
              "    </tr>\n",
              "  </tbody>\n",
              "</table>\n",
              "</div>\n",
              "      <button class=\"colab-df-convert\" onclick=\"convertToInteractive('df-158a7b92-c08f-4449-99d8-e97ff6f0fc01')\"\n",
              "              title=\"Convert this dataframe to an interactive table.\"\n",
              "              style=\"display:none;\">\n",
              "        \n",
              "  <svg xmlns=\"http://www.w3.org/2000/svg\" height=\"24px\"viewBox=\"0 0 24 24\"\n",
              "       width=\"24px\">\n",
              "    <path d=\"M0 0h24v24H0V0z\" fill=\"none\"/>\n",
              "    <path d=\"M18.56 5.44l.94 2.06.94-2.06 2.06-.94-2.06-.94-.94-2.06-.94 2.06-2.06.94zm-11 1L8.5 8.5l.94-2.06 2.06-.94-2.06-.94L8.5 2.5l-.94 2.06-2.06.94zm10 10l.94 2.06.94-2.06 2.06-.94-2.06-.94-.94-2.06-.94 2.06-2.06.94z\"/><path d=\"M17.41 7.96l-1.37-1.37c-.4-.4-.92-.59-1.43-.59-.52 0-1.04.2-1.43.59L10.3 9.45l-7.72 7.72c-.78.78-.78 2.05 0 2.83L4 21.41c.39.39.9.59 1.41.59.51 0 1.02-.2 1.41-.59l7.78-7.78 2.81-2.81c.8-.78.8-2.07 0-2.86zM5.41 20L4 18.59l7.72-7.72 1.47 1.35L5.41 20z\"/>\n",
              "  </svg>\n",
              "      </button>\n",
              "      \n",
              "  <style>\n",
              "    .colab-df-container {\n",
              "      display:flex;\n",
              "      flex-wrap:wrap;\n",
              "      gap: 12px;\n",
              "    }\n",
              "\n",
              "    .colab-df-convert {\n",
              "      background-color: #E8F0FE;\n",
              "      border: none;\n",
              "      border-radius: 50%;\n",
              "      cursor: pointer;\n",
              "      display: none;\n",
              "      fill: #1967D2;\n",
              "      height: 32px;\n",
              "      padding: 0 0 0 0;\n",
              "      width: 32px;\n",
              "    }\n",
              "\n",
              "    .colab-df-convert:hover {\n",
              "      background-color: #E2EBFA;\n",
              "      box-shadow: 0px 1px 2px rgba(60, 64, 67, 0.3), 0px 1px 3px 1px rgba(60, 64, 67, 0.15);\n",
              "      fill: #174EA6;\n",
              "    }\n",
              "\n",
              "    [theme=dark] .colab-df-convert {\n",
              "      background-color: #3B4455;\n",
              "      fill: #D2E3FC;\n",
              "    }\n",
              "\n",
              "    [theme=dark] .colab-df-convert:hover {\n",
              "      background-color: #434B5C;\n",
              "      box-shadow: 0px 1px 3px 1px rgba(0, 0, 0, 0.15);\n",
              "      filter: drop-shadow(0px 1px 2px rgba(0, 0, 0, 0.3));\n",
              "      fill: #FFFFFF;\n",
              "    }\n",
              "  </style>\n",
              "\n",
              "      <script>\n",
              "        const buttonEl =\n",
              "          document.querySelector('#df-158a7b92-c08f-4449-99d8-e97ff6f0fc01 button.colab-df-convert');\n",
              "        buttonEl.style.display =\n",
              "          google.colab.kernel.accessAllowed ? 'block' : 'none';\n",
              "\n",
              "        async function convertToInteractive(key) {\n",
              "          const element = document.querySelector('#df-158a7b92-c08f-4449-99d8-e97ff6f0fc01');\n",
              "          const dataTable =\n",
              "            await google.colab.kernel.invokeFunction('convertToInteractive',\n",
              "                                                     [key], {});\n",
              "          if (!dataTable) return;\n",
              "\n",
              "          const docLinkHtml = 'Like what you see? Visit the ' +\n",
              "            '<a target=\"_blank\" href=https://colab.research.google.com/notebooks/data_table.ipynb>data table notebook</a>'\n",
              "            + ' to learn more about interactive tables.';\n",
              "          element.innerHTML = '';\n",
              "          dataTable['output_type'] = 'display_data';\n",
              "          await google.colab.output.renderOutput(dataTable, element);\n",
              "          const docLink = document.createElement('div');\n",
              "          docLink.innerHTML = docLinkHtml;\n",
              "          element.appendChild(docLink);\n",
              "        }\n",
              "      </script>\n",
              "    </div>\n",
              "  </div>\n",
              "  "
            ]
          },
          "metadata": {},
          "execution_count": 33
        }
      ]
    }
  ]
}