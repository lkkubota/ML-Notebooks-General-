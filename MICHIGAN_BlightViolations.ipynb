{
  "nbformat": 4,
  "nbformat_minor": 0,
  "metadata": {
    "colab": {
      "name": "MICHIGAN_BlightViolations.ipynb",
      "provenance": [],
      "collapsed_sections": []
    },
    "kernelspec": {
      "name": "python3",
      "display_name": "Python 3"
    },
    "language_info": {
      "name": "python"
    }
  },
  "cells": [
    {
      "cell_type": "code",
      "execution_count": 1,
      "metadata": {
        "id": "L2uLv14q8KfP"
      },
      "outputs": [],
      "source": [
        "import pandas as pd\n",
        "import numpy as np\n",
        "from sklearn.pipeline import Pipeline\n",
        "from sklearn.preprocessing import MinMaxScaler,OneHotEncoder,StandardScaler,LabelEncoder\n",
        "from sklearn.ensemble import RandomForestClassifier,GradientBoostingClassifier\n",
        "from sklearn.linear_model import LogisticRegression\n",
        "from sklearn.model_selection import StratifiedKFold\n",
        "from sklearn.model_selection import GridSearchCV,RandomizedSearchCV"
      ]
    },
    {
      "cell_type": "code",
      "source": [
        "send=1\n",
        "# read training set\n",
        "if send==0:\n",
        "  train_df_raw=pd.read_csv(\"readonly/train.csv\",encoding='cp1252')\n",
        "else:\n",
        "  train_df_raw=pd.read_csv(\"train.csv\",encoding='cp1252')\n",
        "# make a copy\n",
        "train_df=train_df_raw.copy()\n",
        "# read addresses\n",
        "if send==0:\n",
        "  add_df=pd.read_csv(\"readonly/addresses.csv\",encoding='cp1252')\n",
        "else:\n",
        "  add_df=pd.read_csv(\"addresses.csv\",encoding='cp1252')\n",
        "# merge with train_df\n",
        "train_df=train_df.merge(add_df, on='ticket_id', how='left')\n",
        "# read latlon\n",
        "if send==0:\n",
        "  latlon_df=pd.read_csv(\"readonly/latlons.csv\",encoding='cp1252')\n",
        "else:\n",
        "  latlon_df=pd.read_csv(\"latlons.csv\",encoding='cp1252')\n",
        "# merge with train_df\n",
        "train_df=train_df.merge(latlon_df, on='address', how='left')\n",
        "# select obvious features\n",
        "features=[\"fine_amount\",\"lat\",\"lon\",\"disposition\",\"compliance\"]\n",
        "train_df=train_df[features]\n",
        "# drop NA rows\n",
        "train_df=train_df.dropna()\n",
        "# force targets to int \n",
        "train_df[\"compliance\"]=train_df[\"compliance\"].astype(int)\n",
        "# list of num features\n",
        "num_ix=[\"fine_amount\",\"lat\",\"lon\"]\n",
        "# list of cat features\n",
        "cat_ix=[\"disposition\"]\n",
        "# split the dataframe into X and y\n",
        "X=train_df.loc[:, train_df.columns != 'compliance']\n",
        "y=train_df.loc[:,'compliance']\n",
        "# transform numerical features\n",
        "scaler=MinMaxScaler()\n",
        "scaler.fit(X[num_ix])\n",
        "Xnum=scaler.transform(X[num_ix])\n",
        "Xnum_df=pd.DataFrame(Xnum,columns=X[num_ix].columns)\n",
        "# transform categorical features\n",
        "Xcat_df = pd.get_dummies(X[cat_ix])\n",
        "# concatenate nums+cats\n",
        "X_df = pd.concat([Xnum_df.reset_index(drop=True), Xcat_df.reset_index(drop=True)], axis=1)\n",
        "# fit model\n",
        "model=RandomForestClassifier(n_estimators=200,max_depth=10)\n",
        "model.fit(X_df,y)\n",
        "# read test set\n",
        "if send==0:\n",
        "  test_df_raw=pd.read_csv(\"readonly/test.csv\",encoding='cp1252')\n",
        "else:\n",
        "  test_df_raw=pd.read_csv(\"test.csv\",encoding='cp1252')\n",
        "# make a copy\n",
        "test_df=test_df_raw.copy()\n",
        "# merge addresses\n",
        "test_df=test_df.merge(add_df, on='ticket_id', how='left')\n",
        "# merge latlon\n",
        "test_df=test_df.merge(latlon_df, on='address', how='left')\n",
        "# select obvious features\n",
        "features=[\"fine_amount\",\"lat\",\"lon\",\"disposition\"]\n",
        "test_df=test_df[features]\n",
        "# fill NAs with modes\n",
        "test_df['lat'].fillna(test_df['lat'].mode()[0], inplace=True)\n",
        "test_df['lon'].fillna(test_df['lon'].mode()[0], inplace=True)\n",
        "# transform numerical features\n",
        "X_test_num=scaler.fit_transform(test_df[num_ix])\n",
        "Xnum_df_test=pd.DataFrame(X_test_num,columns=X[num_ix].columns)\n",
        "# transform categorical features\n",
        "Xcat_df_test = pd.get_dummies(test_df[cat_ix])\n",
        "Xcat_df_test=Xcat_df_test.reindex(columns=Xcat_df.columns, fill_value=0,)\n",
        "# concatenate nums+cats\n",
        "X_test_df = pd.concat([Xnum_df_test.reset_index(drop=True), Xcat_df_test.reset_index(drop=True)], axis=1)\n",
        "probs=model.predict_proba(X_test_df)[:,1]\n",
        "# generate series\n",
        "ans = pd.Series(probs, index=test_df_raw['ticket_id'])"
      ],
      "metadata": {
        "colab": {
          "base_uri": "https://localhost:8080/"
        },
        "id": "byckzjTuWb43",
        "outputId": "8cab3ac6-5435-4ad8-eb46-e35679718b85"
      },
      "execution_count": 59,
      "outputs": [
        {
          "output_type": "stream",
          "name": "stderr",
          "text": [
            "/usr/local/lib/python3.7/dist-packages/IPython/core/interactiveshell.py:2882: DtypeWarning: Columns (11,12,31) have mixed types.Specify dtype option on import or set low_memory=False.\n",
            "  exec(code_obj, self.user_global_ns, self.user_ns)\n"
          ]
        }
      ]
    },
    {
      "cell_type": "code",
      "source": [
        "scores=cross_val_score(model,X_df,y,cv=5,scoring=\"roc_auc\")\n",
        "np.mean(scores)"
      ],
      "metadata": {
        "colab": {
          "base_uri": "https://localhost:8080/"
        },
        "id": "vgbSlyGXkg64",
        "outputId": "a99f85ad-3523-4b97-9c44-95d77e8ae2c2"
      },
      "execution_count": 60,
      "outputs": [
        {
          "output_type": "execute_result",
          "data": {
            "text/plain": [
              "0.7756417948320647"
            ]
          },
          "metadata": {},
          "execution_count": 60
        }
      ]
    }
  ]
}