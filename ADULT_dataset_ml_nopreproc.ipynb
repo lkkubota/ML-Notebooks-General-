{
  "nbformat": 4,
  "nbformat_minor": 0,
  "metadata": {
    "colab": {
      "name": "ADULT_dataset_ml_nopreproc.ipynb",
      "provenance": [],
      "collapsed_sections": []
    },
    "kernelspec": {
      "name": "python3",
      "display_name": "Python 3"
    },
    "language_info": {
      "name": "python"
    }
  },
  "cells": [
    {
      "cell_type": "code",
      "source": [
        "import pandas as pd\n",
        "import numpy as np\n",
        "from sklearn.pipeline import Pipeline\n",
        "from sklearn.preprocessing import MinMaxScaler,OneHotEncoder,StandardScaler\n",
        "from sklearn.compose import ColumnTransformer\n",
        "from sklearn.neighbors import KNeighborsClassifier\n",
        "from sklearn.model_selection import GridSearchCV,RandomizedSearchCV\n",
        "from sklearn.model_selection import cross_val_score,cross_val_predict,train_test_split,cross_validate\n",
        "from sklearn.model_selection import StratifiedKFold\n",
        "from sklearn.svm import SVC\n",
        "from sklearn.svm import LinearSVC\n",
        "from sklearn.linear_model import LogisticRegression\n",
        "from imblearn.over_sampling import SMOTE\n",
        "from imblearn.under_sampling import RandomUnderSampler\n",
        "import xgboost as xgb\n",
        "from sklearn.discriminant_analysis import QuadraticDiscriminantAnalysis\n",
        "from sklearn.ensemble import RandomForestClassifier\n",
        "from sklearn.metrics import confusion_matrix,precision_score,recall_score,f1_score,roc_curve,roc_auc_score, accuracy_score\n",
        "from datetime import datetime"
      ],
      "metadata": {
        "id": "IxsB6vH_XyRP"
      },
      "execution_count": null,
      "outputs": []
    },
    {
      "cell_type": "code",
      "source": [
        "def timer(start_time=None):\n",
        "    if not start_time:\n",
        "        start_time = datetime.now()\n",
        "        return start_time\n",
        "    elif start_time:\n",
        "        thour, temp_sec = divmod((datetime.now() - start_time).total_seconds(), 3600)\n",
        "        tmin, tsec = divmod(temp_sec, 60)\n",
        "        print('\\n Time taken: %i hours %i minutes and %s seconds.' % (thour, tmin, round(tsec, 2)))\n",
        "        return f\"{thour} hours {tmin} minutes and {np.round(tsec, 2)} seconds.\""
      ],
      "metadata": {
        "id": "sIpWutofkrls"
      },
      "execution_count": null,
      "outputs": []
    },
    {
      "cell_type": "markdown",
      "source": [
        "# **Load Dataset**"
      ],
      "metadata": {
        "id": "qGnvJxAlw2_l"
      }
    },
    {
      "cell_type": "code",
      "source": [
        "# import dataset\n",
        "url = 'https://raw.githubusercontent.com/jbrownlee/Datasets/master/adult-all.csv'\n",
        "df_raw = pd.read_csv(url,names=[\"Age\", \"Workclass\", \"Final Weight\", \"Education\", \"Education Number of Years\", \"Marital-status\",\n",
        "                            \"Occupation\", \"Relationship\", \"Race\", \"Sex\", \"Capital-gain\", \"Capital-loss\",\"Hours-per-week\", \"Native-country\",\n",
        "                            \"Target\"], na_values='?')"
      ],
      "metadata": {
        "id": "NC-H9XXm5vZ9"
      },
      "execution_count": null,
      "outputs": []
    },
    {
      "cell_type": "code",
      "source": [
        "df=df_raw.copy()\n",
        "# let´s drop rows with missing data\n",
        "df = df.dropna()\n",
        "# label encode target\n",
        "mapping={\"<=50K\":0,\n",
        "         '>50K':1}\n",
        "df.loc[:,\"Target\"]=df[\"Target\"].map(mapping)\n",
        "# identify feature list\n",
        "features=[f for f in df.columns if f not in (\"Target\")]\n",
        "# select categorical and numerical features\n",
        "cat_ix = df[features].select_dtypes(include=['object', 'bool']).columns\n",
        "num_ix = df[features].select_dtypes(include=['int64', 'float64']).columns\n",
        "# split the dataframe into X and y\n",
        "X=df.loc[:, df.columns != 'Target']\n",
        "y=df.loc[:,'Target']\n",
        "# perform train-test split\n",
        "X_train, X_test, y_train, y_test = train_test_split(X, y, test_size=0.2, random_state=42)"
      ],
      "metadata": {
        "id": "t3N7qQJjojm4",
        "colab": {
          "base_uri": "https://localhost:8080/"
        },
        "outputId": "960d05dd-59bb-467c-ad82-1de112ab05b4"
      },
      "execution_count": null,
      "outputs": [
        {
          "output_type": "stream",
          "name": "stderr",
          "text": [
            "/usr/local/lib/python3.7/dist-packages/pandas/core/indexing.py:1773: SettingWithCopyWarning: \n",
            "A value is trying to be set on a copy of a slice from a DataFrame.\n",
            "Try using .loc[row_indexer,col_indexer] = value instead\n",
            "\n",
            "See the caveats in the documentation: https://pandas.pydata.org/pandas-docs/stable/user_guide/indexing.html#returning-a-view-versus-a-copy\n",
            "  self._setitem_single_column(ilocs[0], value, pi)\n"
          ]
        }
      ]
    },
    {
      "cell_type": "markdown",
      "source": [
        "# **Model HP-grids**"
      ],
      "metadata": {
        "id": "3kUpsysUsBK4"
      }
    },
    {
      "cell_type": "code",
      "source": [
        "# DEFINING HP GRIDS\n",
        "# parameter grid for XGB\n",
        "learning_rate_ = [.1,.3,.5]\n",
        "n_estimators_ = [50,100,200]\n",
        "max_depth_=[3,6]\n",
        "grid_xgb = dict(learning_rate=learning_rate_,\n",
        "            n_estimators=n_estimators_,\n",
        "            max_depth=max_depth_)\n",
        "# parameter grid for KNN\n",
        "n_neighbors_=[5,10,50]\n",
        "grid_knn = dict(n_neighbors=n_neighbors_)\n",
        "# parameter grid for SVM\n",
        "C_=[0.01,1.0,10.0]\n",
        "grid_svm = {'C':C_}\n",
        "# parameter grid for QDA\n",
        "reg_param_=[0.0]\n",
        "grid_qda=dict(reg_param=reg_param_)\n",
        "# parameter grid for LogRes\n",
        "C_=[0.01,0.1,1.0,10.0]\n",
        "penalty_=[\"l1\",\"l2\"]\n",
        "grid_lr=dict(C=C_,penalty=penalty_)\n",
        "# parameter grid for RFs\n",
        "n_estimators_=[100,300]\n",
        "max_depth_=[5,8,None]\n",
        "grid_rf=dict(n_estimators=n_estimators_,max_depth=max_depth_)\n",
        "# scoring metrics\n",
        "scoring = {'acc': 'accuracy',\n",
        "          'prec': 'precision',\n",
        "          'rec': 'recall',\n",
        "           'f1':'f1'}\n",
        "# initialize metric lists\n",
        "accuracy=[]\n",
        "precision=[]\n",
        "recall=[]\n",
        "f1=[]\n",
        "auc=[]\n",
        "names=[]\n",
        "runtime=[]\n",
        "cv_acc=[]\n",
        "cv_prec=[]\n",
        "cv_rec=[]\n",
        "cv_f1=[]"
      ],
      "metadata": {
        "id": "MVFzXAbfxtKH"
      },
      "execution_count": null,
      "outputs": []
    },
    {
      "cell_type": "markdown",
      "source": [
        "# **XGB**"
      ],
      "metadata": {
        "id": "2Elg2BlkTufF"
      }
    },
    {
      "cell_type": "code",
      "source": [
        "model=xgb.XGBClassifier(n_jobs=-1)\n",
        "name=\"xgb\"\n",
        "grid=grid_xgb\n",
        "# feature transformation for numericals\n",
        "num_pipeline=Pipeline([(\"minmax_scaler\",MinMaxScaler())])\n",
        "# apply MinMax to numericals and OneHot to categoricals\n",
        "transformation_pipeline=ColumnTransformer([(\"num\",num_pipeline,num_ix),\n",
        "                                           (\"cat\",OneHotEncoder(handle_unknown = \"ignore\"),cat_ix)])\n",
        "# NESTED CROSS-VALIDATION: inner folds for HP search, outer for generaliz.error\n",
        "# inner kfold for hp-search\n",
        "inner_kfold=StratifiedKFold(n_splits=3,shuffle=True,random_state=1)\n",
        "# invoke grid-search CV to search for best hp\n",
        "gscv= GridSearchCV(estimator=model,\n",
        "                param_grid = grid,\n",
        "                cv=inner_kfold,\n",
        "                scoring='f1',\n",
        "                verbose=0,\n",
        "                n_jobs=-1,\n",
        "                refit=True)\n",
        "# define model pipeline: data transformation then grid-search\n",
        "model_pipeline=Pipeline([(\"transformer\",transformation_pipeline),\n",
        "                         (\"model\",gscv)])\n",
        "# perform cross-validation to estimate generaliz.error\n",
        "skfold=StratifiedKFold(n_splits=5)\n",
        "start_time = timer(None)\n",
        "scores = cross_validate(model_pipeline, X_train, y_train, scoring=scoring, cv=skfold, n_jobs=-1)\n",
        "time_off=timer(start_time)\n",
        "# cross-validation metrics\n",
        "acc_cv=np.mean(scores['test_acc'])\n",
        "cv_acc.append(acc_cv)\n",
        "f1_cv=np.mean(scores['test_f1'])\n",
        "cv_f1.append(f1_cv)\n",
        "prec_cv=np.mean(scores['test_prec'])\n",
        "cv_prec.append(prec_cv)\n",
        "rec_cv=np.mean(scores['test_rec'])\n",
        "cv_rec.append(rec_cv)\n",
        "# fit pipeline on (X_train,y_train) to return best model\n",
        "model_pipeline.fit(X_train,y_train)\n",
        "# make preditions using best_model\n",
        "predictions=model_pipeline.predict(X_test)\n",
        "# store classification metrics\n",
        "names.append(name)\n",
        "accuracy.append(accuracy_score(y_test,predictions))\n",
        "precision.append(precision_score(y_test,predictions))\n",
        "recall.append(recall_score(y_test,predictions))\n",
        "f1.append(f1_score(y_test,predictions))\n",
        "auc.append(roc_auc_score(y_test,model_pipeline.predict_proba(X_test)[:,1]))\n",
        "runtime.append(time_off)\n",
        "print(\"################################################\")\n",
        "print(\"CROSS-VALIDATION METRICS\")\n",
        "print(f\"CV Accuracy for {name}: {np.round(acc_cv,3)}\")\n",
        "print(f\"CV Precision for {name}: {np.round(prec_cv,3)}\")\n",
        "print(f\"CV Recall for {name}: {np.round(rec_cv,3)}\")\n",
        "print(f\"CV F1 for {name}: {np.round(f1_cv,3)}\")\n",
        "print(\"################################################\")"
      ],
      "metadata": {
        "id": "SSNGIiDfSmzD",
        "colab": {
          "base_uri": "https://localhost:8080/"
        },
        "outputId": "d4ea4da6-636d-4394-f12c-3b9ad7fcda21"
      },
      "execution_count": null,
      "outputs": [
        {
          "output_type": "stream",
          "name": "stdout",
          "text": [
            "\n",
            " Time taken: 0 hours 8 minutes and 31.03 seconds.\n",
            "################################################\n",
            "CROSS-VALIDATION METRICS\n",
            "CV Accuracy for xgb: 0.869\n",
            "CV Precision for xgb: 0.777\n",
            "CV Recall for xgb: 0.655\n",
            "CV F1 for xgb: 0.711\n",
            "################################################\n"
          ]
        }
      ]
    },
    {
      "cell_type": "markdown",
      "source": [
        "# **KNN**"
      ],
      "metadata": {
        "id": "RICHR2bhTwo0"
      }
    },
    {
      "cell_type": "code",
      "source": [
        "model=KNeighborsClassifier()\n",
        "name=\"knn\"\n",
        "grid=grid_knn\n",
        "# feature transformation for numericals\n",
        "num_pipeline=Pipeline([(\"minmax_scaler\",MinMaxScaler())])\n",
        "# apply MinMax to numericals and OneHot to categoricals\n",
        "transformation_pipeline=ColumnTransformer([(\"num\",num_pipeline,num_ix),\n",
        "                                           (\"cat\",OneHotEncoder(handle_unknown = \"ignore\"),cat_ix)])\n",
        "# NESTED CROSS-VALIDATION: inner folds for HP search, outer for generaliz.error\n",
        "# inner kfold for hp-search\n",
        "inner_kfold=StratifiedKFold(n_splits=3,shuffle=True,random_state=1)\n",
        "# invoke grid-search CV to search for best hp\n",
        "gscv= GridSearchCV(estimator=model,\n",
        "                param_grid = grid,\n",
        "                cv=inner_kfold,\n",
        "                scoring='f1',\n",
        "                verbose=0,\n",
        "                n_jobs=-1,\n",
        "                refit=True)\n",
        "# define model pipeline: data transformation then grid-search\n",
        "model_pipeline=Pipeline([(\"transformer\",transformation_pipeline),\n",
        "                         (\"model\",gscv)])\n",
        "# perform cross-validation to estimate generaliz.error\n",
        "skfold=StratifiedKFold(n_splits=5)\n",
        "start_time = timer(None)\n",
        "scores = cross_validate(model_pipeline, X_train, y_train, scoring=scoring, cv=skfold, n_jobs=-1)\n",
        "time_off=timer(start_time)\n",
        "# cross-validation metrics\n",
        "acc_cv=np.mean(scores['test_acc'])\n",
        "cv_acc.append(acc_cv)\n",
        "f1_cv=np.mean(scores['test_f1'])\n",
        "cv_f1.append(f1_cv)\n",
        "prec_cv=np.mean(scores['test_prec'])\n",
        "cv_prec.append(prec_cv)\n",
        "rec_cv=np.mean(scores['test_rec'])\n",
        "cv_rec.append(rec_cv)\n",
        "# fit pipeline on (X_train,y_train) to return best model\n",
        "model_pipeline.fit(X_train,y_train)\n",
        "# make preditions using best_model\n",
        "predictions=model_pipeline.predict(X_test)\n",
        "# store classification metrics\n",
        "names.append(name)\n",
        "accuracy.append(accuracy_score(y_test,predictions))\n",
        "precision.append(precision_score(y_test,predictions))\n",
        "recall.append(recall_score(y_test,predictions))\n",
        "f1.append(f1_score(y_test,predictions))\n",
        "auc.append(roc_auc_score(y_test,model_pipeline.predict_proba(X_test)[:,1]))\n",
        "runtime.append(time_off)\n",
        "print(\"################################################\")\n",
        "print(\"CROSS-VALIDATION METRICS\")\n",
        "print(f\"CV Accuracy for {name}: {np.round(acc_cv,3)}\")\n",
        "print(f\"CV Precision for {name}: {np.round(prec_cv,3)}\")\n",
        "print(f\"CV Recall for {name}: {np.round(rec_cv,3)}\")\n",
        "print(f\"CV F1 for {name}: {np.round(f1_cv,3)}\")\n",
        "print(\"################################################\")"
      ],
      "metadata": {
        "id": "PcMVrhqFTC4O",
        "colab": {
          "base_uri": "https://localhost:8080/"
        },
        "outputId": "0ec07ebe-877c-462f-e568-b2a843ec6a62"
      },
      "execution_count": null,
      "outputs": [
        {
          "output_type": "stream",
          "name": "stderr",
          "text": [
            "/usr/local/lib/python3.7/dist-packages/joblib/externals/loky/process_executor.py:705: UserWarning: A worker stopped while some jobs were given to the executor. This can be caused by a too short worker timeout or by a memory leak.\n",
            "  \"timeout or by a memory leak.\", UserWarning\n"
          ]
        },
        {
          "output_type": "stream",
          "name": "stdout",
          "text": [
            "\n",
            " Time taken: 0 hours 6 minutes and 55.49 seconds.\n"
          ]
        },
        {
          "output_type": "stream",
          "name": "stderr",
          "text": [
            "/usr/local/lib/python3.7/dist-packages/joblib/externals/loky/process_executor.py:705: UserWarning: A worker stopped while some jobs were given to the executor. This can be caused by a too short worker timeout or by a memory leak.\n",
            "  \"timeout or by a memory leak.\", UserWarning\n"
          ]
        },
        {
          "output_type": "stream",
          "name": "stdout",
          "text": [
            "################################################\n",
            "CROSS-VALIDATION METRICS\n",
            "CV Accuracy for knn: 0.832\n",
            "CV Precision for knn: 0.693\n",
            "CV Recall for knn: 0.57\n",
            "CV F1 for knn: 0.626\n",
            "################################################\n"
          ]
        }
      ]
    },
    {
      "cell_type": "markdown",
      "source": [
        "# **Logistic Regression**"
      ],
      "metadata": {
        "id": "10ooKYy16aNv"
      }
    },
    {
      "cell_type": "code",
      "source": [
        "from sklearn.preprocessing import FunctionTransformer\n",
        "model=LogisticRegression()\n",
        "name=\"lr\"\n",
        "grid=grid_lr\n",
        "# feature transformation for numericals\n",
        "num_pipeline=Pipeline([(\"minmax_scaler\",MinMaxScaler())])\n",
        "# apply MinMax to numericals and OneHot to categoricals\n",
        "transformation_pipeline=ColumnTransformer([(\"num\",num_pipeline,num_ix),\n",
        "                                           (\"cat\",OneHotEncoder(handle_unknown = \"ignore\"),cat_ix)])\n",
        "# NESTED CROSS-VALIDATION: inner folds for HP search, outer for generaliz.error\n",
        "# inner kfold for hp-search\n",
        "inner_kfold=StratifiedKFold(n_splits=3,shuffle=True,random_state=1)\n",
        "# invoke grid-search CV to search for best hp\n",
        "gscv= GridSearchCV(estimator=model,\n",
        "                param_grid = grid,\n",
        "                cv=inner_kfold,\n",
        "                scoring='f1',\n",
        "                verbose=0,\n",
        "                n_jobs=-1,\n",
        "                refit=True)\n",
        "# define model pipeline: data transformation then grid-search\n",
        "model_pipeline=Pipeline([(\"transformer\",transformation_pipeline),\n",
        "                         (\"model\",gscv)])\n",
        "# perform cross-validation to estimate generaliz.error\n",
        "skfold=StratifiedKFold(n_splits=5)\n",
        "start_time = timer(None)\n",
        "scores = cross_validate(model_pipeline, X_train, y_train, scoring=scoring, cv=skfold, n_jobs=-1)\n",
        "time_off=timer(start_time)\n",
        "# cross-validation metrics\n",
        "acc_cv=np.mean(scores['test_acc'])\n",
        "cv_acc.append(acc_cv)\n",
        "f1_cv=np.mean(scores['test_f1'])\n",
        "cv_f1.append(f1_cv)\n",
        "prec_cv=np.mean(scores['test_prec'])\n",
        "cv_prec.append(prec_cv)\n",
        "rec_cv=np.mean(scores['test_rec'])\n",
        "cv_rec.append(rec_cv)\n",
        "# fit pipeline on (X_train,y_train) to return best model\n",
        "model_pipeline.fit(X_train,y_train)\n",
        "# make preditions using best_model\n",
        "predictions=model_pipeline.predict(X_test)\n",
        "# store classification metrics\n",
        "names.append(name)\n",
        "accuracy.append(accuracy_score(y_test,predictions))\n",
        "precision.append(precision_score(y_test,predictions))\n",
        "recall.append(recall_score(y_test,predictions))\n",
        "f1.append(f1_score(y_test,predictions))\n",
        "auc.append(roc_auc_score(y_test,model_pipeline.predict_proba(X_test)[:,1]))\n",
        "runtime.append(time_off)\n",
        "print(\"################################################\")\n",
        "print(\"CROSS-VALIDATION METRICS\")\n",
        "print(f\"CV Accuracy for {name}: {np.round(acc_cv,3)}\")\n",
        "print(f\"CV Precision for {name}: {np.round(prec_cv,3)}\")\n",
        "print(f\"CV Recall for {name}: {np.round(rec_cv,3)}\")\n",
        "print(f\"CV F1 for {name}: {np.round(f1_cv,3)}\")\n",
        "print(\"################################################\")"
      ],
      "metadata": {
        "colab": {
          "base_uri": "https://localhost:8080/"
        },
        "id": "5LawR-JD6ZVG",
        "outputId": "749f678a-ca57-4823-c07d-d9b998aeaf38"
      },
      "execution_count": null,
      "outputs": [
        {
          "output_type": "stream",
          "name": "stdout",
          "text": [
            "\n",
            " Time taken: 0 hours 0 minutes and 15.9 seconds.\n"
          ]
        },
        {
          "output_type": "stream",
          "name": "stderr",
          "text": [
            "/usr/local/lib/python3.7/dist-packages/sklearn/model_selection/_validation.py:372: FitFailedWarning: \n",
            "12 fits failed out of a total of 24.\n",
            "The score on these train-test partitions for these parameters will be set to nan.\n",
            "If these failures are not expected, you can try to debug them by setting error_score='raise'.\n",
            "\n",
            "Below are more details about the failures:\n",
            "--------------------------------------------------------------------------------\n",
            "12 fits failed with the following error:\n",
            "Traceback (most recent call last):\n",
            "  File \"/usr/local/lib/python3.7/dist-packages/sklearn/model_selection/_validation.py\", line 680, in _fit_and_score\n",
            "    estimator.fit(X_train, y_train, **fit_params)\n",
            "  File \"/usr/local/lib/python3.7/dist-packages/sklearn/linear_model/_logistic.py\", line 1461, in fit\n",
            "    solver = _check_solver(self.solver, self.penalty, self.dual)\n",
            "  File \"/usr/local/lib/python3.7/dist-packages/sklearn/linear_model/_logistic.py\", line 449, in _check_solver\n",
            "    % (solver, penalty)\n",
            "ValueError: Solver lbfgs supports only 'l2' or 'none' penalties, got l1 penalty.\n",
            "\n",
            "  warnings.warn(some_fits_failed_message, FitFailedWarning)\n",
            "/usr/local/lib/python3.7/dist-packages/sklearn/model_selection/_search.py:972: UserWarning: One or more of the test scores are non-finite: [       nan 0.59656743        nan 0.62841838        nan 0.65400262\n",
            "        nan 0.6599423 ]\n",
            "  category=UserWarning,\n"
          ]
        },
        {
          "output_type": "stream",
          "name": "stdout",
          "text": [
            "################################################\n",
            "CROSS-VALIDATION METRICS\n",
            "CV Accuracy for lr: 0.848\n",
            "CV Precision for lr: 0.732\n",
            "CV Recall for lr: 0.602\n",
            "CV F1 for lr: 0.661\n",
            "################################################\n"
          ]
        },
        {
          "output_type": "stream",
          "name": "stderr",
          "text": [
            "/usr/local/lib/python3.7/dist-packages/sklearn/linear_model/_logistic.py:818: ConvergenceWarning: lbfgs failed to converge (status=1):\n",
            "STOP: TOTAL NO. of ITERATIONS REACHED LIMIT.\n",
            "\n",
            "Increase the number of iterations (max_iter) or scale the data as shown in:\n",
            "    https://scikit-learn.org/stable/modules/preprocessing.html\n",
            "Please also refer to the documentation for alternative solver options:\n",
            "    https://scikit-learn.org/stable/modules/linear_model.html#logistic-regression\n",
            "  extra_warning_msg=_LOGISTIC_SOLVER_CONVERGENCE_MSG,\n"
          ]
        }
      ]
    },
    {
      "cell_type": "markdown",
      "source": [
        "# **SVM**"
      ],
      "metadata": {
        "id": "uoLmMq-kTyd8"
      }
    },
    {
      "cell_type": "code",
      "source": [
        "from sklearn.calibration import CalibratedClassifierCV\n",
        "model=LinearSVC()\n",
        "name=\"svm\"\n",
        "grid=grid_svm\n",
        "# feature transformation for numericals\n",
        "num_pipeline=Pipeline([(\"minmax_scaler\",StandardScaler())])\n",
        "# apply MinMax to numericals and OneHot to categoricals\n",
        "transformation_pipeline=ColumnTransformer([(\"num\",num_pipeline,num_ix),\n",
        "                                           (\"cat\",OneHotEncoder(handle_unknown = \"ignore\"),cat_ix)])\n",
        "# NESTED CROSS-VALIDATION: inner folds for HP search, outer for generaliz.error\n",
        "# inner kfold for hp-search\n",
        "inner_kfold=StratifiedKFold(n_splits=3,shuffle=True,random_state=1)\n",
        "# invoke grid-search CV to search for best hp\n",
        "gscv= GridSearchCV(estimator=model,\n",
        "                param_grid = grid,\n",
        "                cv=inner_kfold,\n",
        "                scoring='f1',\n",
        "                verbose=0,\n",
        "                n_jobs=-1,\n",
        "                refit=True)\n",
        "gscv=CalibratedClassifierCV(gscv)\n",
        "# define model pipeline: data transformation then grid-search\n",
        "model_pipeline=Pipeline([(\"transformer\",transformation_pipeline),\n",
        "                         (\"model\",gscv)])\n",
        "# perform cross-validation to estimate generaliz.error\n",
        "skfold=StratifiedKFold(n_splits=5)\n",
        "start_time = timer(None)\n",
        "scores = cross_validate(model_pipeline, X_train, y_train, scoring=scoring, cv=skfold, n_jobs=-1)\n",
        "time_off=timer(start_time)\n",
        "# cross-validation metrics\n",
        "acc_cv=np.mean(scores['test_acc'])\n",
        "cv_acc.append(acc_cv)\n",
        "f1_cv=np.mean(scores['test_f1'])\n",
        "cv_f1.append(f1_cv)\n",
        "prec_cv=np.mean(scores['test_prec'])\n",
        "cv_prec.append(prec_cv)\n",
        "rec_cv=np.mean(scores['test_rec'])\n",
        "cv_rec.append(rec_cv)\n",
        "# fit pipeline on (X_train,y_train) to return best model\n",
        "model_pipeline.fit(X_train,y_train)\n",
        "# make preditions using best_model\n",
        "predictions=model_pipeline.predict(X_test)\n",
        "# store classification metrics\n",
        "names.append(name)\n",
        "accuracy.append(accuracy_score(y_test,predictions))\n",
        "precision.append(precision_score(y_test,predictions))\n",
        "recall.append(recall_score(y_test,predictions))\n",
        "f1.append(f1_score(y_test,predictions))\n",
        "auc.append(roc_auc_score(y_test,model_pipeline.predict_proba(X_test)[:,1]))\n",
        "runtime.append(time_off)\n",
        "print(\"################################################\")\n",
        "print(\"CROSS-VALIDATION METRICS\")\n",
        "print(f\"CV Accuracy for {name}: {np.round(acc_cv,3)}\")\n",
        "print(f\"CV Precision for {name}: {np.round(prec_cv,3)}\")\n",
        "print(f\"CV Recall for {name}: {np.round(rec_cv,3)}\")\n",
        "print(f\"CV F1 for {name}: {np.round(f1_cv,3)}\")\n",
        "print(\"################################################\")"
      ],
      "metadata": {
        "id": "Rxd_3AJuTOpb",
        "colab": {
          "base_uri": "https://localhost:8080/"
        },
        "outputId": "674500dd-946e-4f04-9516-cda59d6b58e7"
      },
      "execution_count": null,
      "outputs": [
        {
          "output_type": "stream",
          "name": "stdout",
          "text": [
            "\n",
            " Time taken: 0 hours 4 minutes and 12.36 seconds.\n"
          ]
        },
        {
          "output_type": "stream",
          "name": "stderr",
          "text": [
            "/usr/local/lib/python3.7/dist-packages/sklearn/svm/_base.py:1208: ConvergenceWarning: Liblinear failed to converge, increase the number of iterations.\n",
            "  ConvergenceWarning,\n",
            "/usr/local/lib/python3.7/dist-packages/sklearn/svm/_base.py:1208: ConvergenceWarning: Liblinear failed to converge, increase the number of iterations.\n",
            "  ConvergenceWarning,\n",
            "/usr/local/lib/python3.7/dist-packages/sklearn/svm/_base.py:1208: ConvergenceWarning: Liblinear failed to converge, increase the number of iterations.\n",
            "  ConvergenceWarning,\n",
            "/usr/local/lib/python3.7/dist-packages/sklearn/svm/_base.py:1208: ConvergenceWarning: Liblinear failed to converge, increase the number of iterations.\n",
            "  ConvergenceWarning,\n"
          ]
        },
        {
          "output_type": "stream",
          "name": "stdout",
          "text": [
            "################################################\n",
            "CROSS-VALIDATION METRICS\n",
            "CV Accuracy for svm: 0.848\n",
            "CV Precision for svm: 0.735\n",
            "CV Recall for svm: 0.597\n",
            "CV F1 for svm: 0.659\n",
            "################################################\n"
          ]
        },
        {
          "output_type": "stream",
          "name": "stderr",
          "text": [
            "/usr/local/lib/python3.7/dist-packages/sklearn/svm/_base.py:1208: ConvergenceWarning: Liblinear failed to converge, increase the number of iterations.\n",
            "  ConvergenceWarning,\n"
          ]
        }
      ]
    },
    {
      "cell_type": "markdown",
      "source": [
        "# **Random Forest**"
      ],
      "metadata": {
        "id": "FTBmGr476qvd"
      }
    },
    {
      "cell_type": "code",
      "source": [
        "from sklearn.ensemble import RandomForestClassifier\n",
        "model=RandomForestClassifier()\n",
        "name=\"rf\"\n",
        "grid=grid_rf\n",
        "# feature transformation for numericals\n",
        "num_pipeline=Pipeline([(\"minmax_scaler\",MinMaxScaler())])\n",
        "# apply MinMax to numericals and OneHot to categoricals\n",
        "transformation_pipeline=ColumnTransformer([(\"num\",num_pipeline,num_ix),\n",
        "                                           (\"cat\",OneHotEncoder(handle_unknown = \"ignore\"),cat_ix)])\n",
        "# NESTED CROSS-VALIDATION: inner folds for HP search, outer for generaliz.error\n",
        "# inner kfold for hp-search\n",
        "inner_kfold=StratifiedKFold(n_splits=3,shuffle=True,random_state=1)\n",
        "# invoke grid-search CV to search for best hp\n",
        "gscv= GridSearchCV(estimator=model,\n",
        "                param_grid = grid,\n",
        "                cv=inner_kfold,\n",
        "                scoring='f1',\n",
        "                verbose=0,\n",
        "                n_jobs=-1,\n",
        "                refit=True)\n",
        "# define model pipeline: data transformation then grid-search\n",
        "model_pipeline=Pipeline([(\"transformer\",transformation_pipeline),\n",
        "                         (\"model\",gscv)])\n",
        "# perform cross-validation to estimate generaliz.error\n",
        "skfold=StratifiedKFold(n_splits=5)\n",
        "start_time = timer(None)\n",
        "scores = cross_validate(model_pipeline, X_train, y_train, scoring=scoring, cv=skfold, n_jobs=-1)\n",
        "time_off=timer(start_time)\n",
        "# cross-validation metrics\n",
        "acc_cv=np.mean(scores['test_acc'])\n",
        "cv_acc.append(acc_cv)\n",
        "f1_cv=np.mean(scores['test_f1'])\n",
        "cv_f1.append(f1_cv)\n",
        "prec_cv=np.mean(scores['test_prec'])\n",
        "cv_prec.append(prec_cv)\n",
        "rec_cv=np.mean(scores['test_rec'])\n",
        "cv_rec.append(rec_cv)\n",
        "# fit pipeline on (X_train,y_train) to return best model\n",
        "model_pipeline.fit(X_train,y_train)\n",
        "# make preditions using best_model\n",
        "predictions=model_pipeline.predict(X_test)\n",
        "# store classification metrics\n",
        "names.append(name)\n",
        "accuracy.append(accuracy_score(y_test,predictions))\n",
        "precision.append(precision_score(y_test,predictions))\n",
        "recall.append(recall_score(y_test,predictions))\n",
        "f1.append(f1_score(y_test,predictions))\n",
        "auc.append(roc_auc_score(y_test,model_pipeline.predict_proba(X_test)[:,1]))\n",
        "runtime.append(time_off)\n",
        "print(\"################################################\")\n",
        "print(\"CROSS-VALIDATION METRICS\")\n",
        "print(f\"CV Accuracy for {name}: {np.round(acc_cv,3)}\")\n",
        "print(f\"CV Precision for {name}: {np.round(prec_cv,3)}\")\n",
        "print(f\"CV Recall for {name}: {np.round(rec_cv,3)}\")\n",
        "print(f\"CV F1 for {name}: {np.round(f1_cv,3)}\")\n",
        "print(\"################################################\")"
      ],
      "metadata": {
        "id": "l_TA17lI6qaF",
        "colab": {
          "base_uri": "https://localhost:8080/"
        },
        "outputId": "6002f385-912d-4a21-cce4-af9e20718595"
      },
      "execution_count": null,
      "outputs": [
        {
          "output_type": "stream",
          "name": "stdout",
          "text": [
            "\n",
            " Time taken: 0 hours 17 minutes and 4.81 seconds.\n",
            "################################################\n",
            "CROSS-VALIDATION METRICS\n",
            "CV Accuracy for rf: 0.851\n",
            "CV Precision for rf: 0.732\n",
            "CV Recall for rf: 0.622\n",
            "CV F1 for rf: 0.672\n",
            "################################################\n"
          ]
        }
      ]
    },
    {
      "cell_type": "markdown",
      "source": [
        "# **Results test set**"
      ],
      "metadata": {
        "id": "PnnRwwVtT3Lh"
      }
    },
    {
      "cell_type": "code",
      "source": [
        "results=np.column_stack((names,accuracy,precision,recall,f1,auc,runtime))  \n",
        "results_df=pd.DataFrame(results)\n",
        "results_df.columns=[\"name\",\"accuracy\",\"precision\",\"recall\",\"f1\",\"auc\",\"runtime\"]\n",
        "results_df.to_excel(\"results.xlsx\")\n",
        "results_df.head(results_df.shape[0])"
      ],
      "metadata": {
        "id": "11vskJhxTmw7",
        "colab": {
          "base_uri": "https://localhost:8080/",
          "height": 250
        },
        "outputId": "b09771cf-4175-4fde-fb3e-b0db7fdb6b5d"
      },
      "execution_count": null,
      "outputs": [
        {
          "output_type": "execute_result",
          "data": {
            "text/plain": [
              "  name            accuracy           precision              recall  \\\n",
              "0  xgb  0.8733001658374793  0.8052910052910053  0.6617391304347826   \n",
              "1  knn  0.8297401879491432  0.7130044843049327  0.5530434782608695   \n",
              "2   lr  0.8527363184079602  0.7653508771929824  0.6069565217391304   \n",
              "3  svm  0.8519624101713654  0.7635765222161273  0.6052173913043478   \n",
              "4   rf  0.8553897180762853   0.753061224489796  0.6417391304347826   \n",
              "\n",
              "                   f1                 auc  \\\n",
              "0   0.726491646778043  0.9320620749669641   \n",
              "1  0.6229187071498531  0.8875871337867018   \n",
              "2  0.6770126091173618  0.9099515905501658   \n",
              "3  0.6752364782925055   0.909877590485706   \n",
              "4  0.6929577464788732   0.906573661649531   \n",
              "\n",
              "                                    runtime  \n",
              "0  0.0 hours 8.0 minutes and 31.03 seconds.  \n",
              "1  0.0 hours 6.0 minutes and 55.49 seconds.  \n",
              "2   0.0 hours 0.0 minutes and 15.9 seconds.  \n",
              "3  0.0 hours 4.0 minutes and 12.36 seconds.  \n",
              "4  0.0 hours 17.0 minutes and 4.81 seconds.  "
            ],
            "text/html": [
              "\n",
              "  <div id=\"df-cfff41ff-5ae6-4466-8f07-7bd2ccd6ea0a\">\n",
              "    <div class=\"colab-df-container\">\n",
              "      <div>\n",
              "<style scoped>\n",
              "    .dataframe tbody tr th:only-of-type {\n",
              "        vertical-align: middle;\n",
              "    }\n",
              "\n",
              "    .dataframe tbody tr th {\n",
              "        vertical-align: top;\n",
              "    }\n",
              "\n",
              "    .dataframe thead th {\n",
              "        text-align: right;\n",
              "    }\n",
              "</style>\n",
              "<table border=\"1\" class=\"dataframe\">\n",
              "  <thead>\n",
              "    <tr style=\"text-align: right;\">\n",
              "      <th></th>\n",
              "      <th>name</th>\n",
              "      <th>accuracy</th>\n",
              "      <th>precision</th>\n",
              "      <th>recall</th>\n",
              "      <th>f1</th>\n",
              "      <th>auc</th>\n",
              "      <th>runtime</th>\n",
              "    </tr>\n",
              "  </thead>\n",
              "  <tbody>\n",
              "    <tr>\n",
              "      <th>0</th>\n",
              "      <td>xgb</td>\n",
              "      <td>0.8733001658374793</td>\n",
              "      <td>0.8052910052910053</td>\n",
              "      <td>0.6617391304347826</td>\n",
              "      <td>0.726491646778043</td>\n",
              "      <td>0.9320620749669641</td>\n",
              "      <td>0.0 hours 8.0 minutes and 31.03 seconds.</td>\n",
              "    </tr>\n",
              "    <tr>\n",
              "      <th>1</th>\n",
              "      <td>knn</td>\n",
              "      <td>0.8297401879491432</td>\n",
              "      <td>0.7130044843049327</td>\n",
              "      <td>0.5530434782608695</td>\n",
              "      <td>0.6229187071498531</td>\n",
              "      <td>0.8875871337867018</td>\n",
              "      <td>0.0 hours 6.0 minutes and 55.49 seconds.</td>\n",
              "    </tr>\n",
              "    <tr>\n",
              "      <th>2</th>\n",
              "      <td>lr</td>\n",
              "      <td>0.8527363184079602</td>\n",
              "      <td>0.7653508771929824</td>\n",
              "      <td>0.6069565217391304</td>\n",
              "      <td>0.6770126091173618</td>\n",
              "      <td>0.9099515905501658</td>\n",
              "      <td>0.0 hours 0.0 minutes and 15.9 seconds.</td>\n",
              "    </tr>\n",
              "    <tr>\n",
              "      <th>3</th>\n",
              "      <td>svm</td>\n",
              "      <td>0.8519624101713654</td>\n",
              "      <td>0.7635765222161273</td>\n",
              "      <td>0.6052173913043478</td>\n",
              "      <td>0.6752364782925055</td>\n",
              "      <td>0.909877590485706</td>\n",
              "      <td>0.0 hours 4.0 minutes and 12.36 seconds.</td>\n",
              "    </tr>\n",
              "    <tr>\n",
              "      <th>4</th>\n",
              "      <td>rf</td>\n",
              "      <td>0.8553897180762853</td>\n",
              "      <td>0.753061224489796</td>\n",
              "      <td>0.6417391304347826</td>\n",
              "      <td>0.6929577464788732</td>\n",
              "      <td>0.906573661649531</td>\n",
              "      <td>0.0 hours 17.0 minutes and 4.81 seconds.</td>\n",
              "    </tr>\n",
              "  </tbody>\n",
              "</table>\n",
              "</div>\n",
              "      <button class=\"colab-df-convert\" onclick=\"convertToInteractive('df-cfff41ff-5ae6-4466-8f07-7bd2ccd6ea0a')\"\n",
              "              title=\"Convert this dataframe to an interactive table.\"\n",
              "              style=\"display:none;\">\n",
              "        \n",
              "  <svg xmlns=\"http://www.w3.org/2000/svg\" height=\"24px\"viewBox=\"0 0 24 24\"\n",
              "       width=\"24px\">\n",
              "    <path d=\"M0 0h24v24H0V0z\" fill=\"none\"/>\n",
              "    <path d=\"M18.56 5.44l.94 2.06.94-2.06 2.06-.94-2.06-.94-.94-2.06-.94 2.06-2.06.94zm-11 1L8.5 8.5l.94-2.06 2.06-.94-2.06-.94L8.5 2.5l-.94 2.06-2.06.94zm10 10l.94 2.06.94-2.06 2.06-.94-2.06-.94-.94-2.06-.94 2.06-2.06.94z\"/><path d=\"M17.41 7.96l-1.37-1.37c-.4-.4-.92-.59-1.43-.59-.52 0-1.04.2-1.43.59L10.3 9.45l-7.72 7.72c-.78.78-.78 2.05 0 2.83L4 21.41c.39.39.9.59 1.41.59.51 0 1.02-.2 1.41-.59l7.78-7.78 2.81-2.81c.8-.78.8-2.07 0-2.86zM5.41 20L4 18.59l7.72-7.72 1.47 1.35L5.41 20z\"/>\n",
              "  </svg>\n",
              "      </button>\n",
              "      \n",
              "  <style>\n",
              "    .colab-df-container {\n",
              "      display:flex;\n",
              "      flex-wrap:wrap;\n",
              "      gap: 12px;\n",
              "    }\n",
              "\n",
              "    .colab-df-convert {\n",
              "      background-color: #E8F0FE;\n",
              "      border: none;\n",
              "      border-radius: 50%;\n",
              "      cursor: pointer;\n",
              "      display: none;\n",
              "      fill: #1967D2;\n",
              "      height: 32px;\n",
              "      padding: 0 0 0 0;\n",
              "      width: 32px;\n",
              "    }\n",
              "\n",
              "    .colab-df-convert:hover {\n",
              "      background-color: #E2EBFA;\n",
              "      box-shadow: 0px 1px 2px rgba(60, 64, 67, 0.3), 0px 1px 3px 1px rgba(60, 64, 67, 0.15);\n",
              "      fill: #174EA6;\n",
              "    }\n",
              "\n",
              "    [theme=dark] .colab-df-convert {\n",
              "      background-color: #3B4455;\n",
              "      fill: #D2E3FC;\n",
              "    }\n",
              "\n",
              "    [theme=dark] .colab-df-convert:hover {\n",
              "      background-color: #434B5C;\n",
              "      box-shadow: 0px 1px 3px 1px rgba(0, 0, 0, 0.15);\n",
              "      filter: drop-shadow(0px 1px 2px rgba(0, 0, 0, 0.3));\n",
              "      fill: #FFFFFF;\n",
              "    }\n",
              "  </style>\n",
              "\n",
              "      <script>\n",
              "        const buttonEl =\n",
              "          document.querySelector('#df-cfff41ff-5ae6-4466-8f07-7bd2ccd6ea0a button.colab-df-convert');\n",
              "        buttonEl.style.display =\n",
              "          google.colab.kernel.accessAllowed ? 'block' : 'none';\n",
              "\n",
              "        async function convertToInteractive(key) {\n",
              "          const element = document.querySelector('#df-cfff41ff-5ae6-4466-8f07-7bd2ccd6ea0a');\n",
              "          const dataTable =\n",
              "            await google.colab.kernel.invokeFunction('convertToInteractive',\n",
              "                                                     [key], {});\n",
              "          if (!dataTable) return;\n",
              "\n",
              "          const docLinkHtml = 'Like what you see? Visit the ' +\n",
              "            '<a target=\"_blank\" href=https://colab.research.google.com/notebooks/data_table.ipynb>data table notebook</a>'\n",
              "            + ' to learn more about interactive tables.';\n",
              "          element.innerHTML = '';\n",
              "          dataTable['output_type'] = 'display_data';\n",
              "          await google.colab.output.renderOutput(dataTable, element);\n",
              "          const docLink = document.createElement('div');\n",
              "          docLink.innerHTML = docLinkHtml;\n",
              "          element.appendChild(docLink);\n",
              "        }\n",
              "      </script>\n",
              "    </div>\n",
              "  </div>\n",
              "  "
            ]
          },
          "metadata": {},
          "execution_count": 11
        }
      ]
    },
    {
      "cell_type": "markdown",
      "source": [
        "# **Results CV**"
      ],
      "metadata": {
        "id": "Bj1mxc7phqJm"
      }
    },
    {
      "cell_type": "code",
      "source": [
        "results_cv=np.column_stack((names,cv_acc,cv_prec,cv_rec,cv_f1))  \n",
        "resultscv_df=pd.DataFrame(results_cv)\n",
        "resultscv_df.columns=[\"name\",\"accuracy\",\"precision\",\"recall\",\"f1\"]\n",
        "resultscv_df.to_excel(\"results_cv.xlsx\")\n",
        "resultscv_df.head(resultscv_df.shape[0])"
      ],
      "metadata": {
        "colab": {
          "base_uri": "https://localhost:8080/",
          "height": 206
        },
        "id": "ZTlt0Ng2duIK",
        "outputId": "aeeebfe2-3bac-444a-8476-6bcc0effc56e"
      },
      "execution_count": null,
      "outputs": [
        {
          "output_type": "execute_result",
          "data": {
            "text/plain": [
              "  name            accuracy           precision              recall  \\\n",
              "0  xgb  0.8688392675339422  0.7773219670637452  0.6550277243707902   \n",
              "1  knn  0.8319652218826011  0.6930632865006736  0.5702733240446135   \n",
              "2   lr   0.847665710455631  0.7319583067881199  0.6019295834380992   \n",
              "3  svm   0.847582784075476  0.7345102706389208  0.5968783221824584   \n",
              "4   rf  0.8507063354807014  0.7316200306503617  0.6219125562191256   \n",
              "\n",
              "                   f1  \n",
              "0  0.7109245268026516  \n",
              "1  0.6256562018376455  \n",
              "2  0.6605470508959039  \n",
              "3  0.6585220948694884  \n",
              "4  0.6722927838427981  "
            ],
            "text/html": [
              "\n",
              "  <div id=\"df-d3b43829-460b-496c-9c4a-ea4f4c4b47a2\">\n",
              "    <div class=\"colab-df-container\">\n",
              "      <div>\n",
              "<style scoped>\n",
              "    .dataframe tbody tr th:only-of-type {\n",
              "        vertical-align: middle;\n",
              "    }\n",
              "\n",
              "    .dataframe tbody tr th {\n",
              "        vertical-align: top;\n",
              "    }\n",
              "\n",
              "    .dataframe thead th {\n",
              "        text-align: right;\n",
              "    }\n",
              "</style>\n",
              "<table border=\"1\" class=\"dataframe\">\n",
              "  <thead>\n",
              "    <tr style=\"text-align: right;\">\n",
              "      <th></th>\n",
              "      <th>name</th>\n",
              "      <th>accuracy</th>\n",
              "      <th>precision</th>\n",
              "      <th>recall</th>\n",
              "      <th>f1</th>\n",
              "    </tr>\n",
              "  </thead>\n",
              "  <tbody>\n",
              "    <tr>\n",
              "      <th>0</th>\n",
              "      <td>xgb</td>\n",
              "      <td>0.8688392675339422</td>\n",
              "      <td>0.7773219670637452</td>\n",
              "      <td>0.6550277243707902</td>\n",
              "      <td>0.7109245268026516</td>\n",
              "    </tr>\n",
              "    <tr>\n",
              "      <th>1</th>\n",
              "      <td>knn</td>\n",
              "      <td>0.8319652218826011</td>\n",
              "      <td>0.6930632865006736</td>\n",
              "      <td>0.5702733240446135</td>\n",
              "      <td>0.6256562018376455</td>\n",
              "    </tr>\n",
              "    <tr>\n",
              "      <th>2</th>\n",
              "      <td>lr</td>\n",
              "      <td>0.847665710455631</td>\n",
              "      <td>0.7319583067881199</td>\n",
              "      <td>0.6019295834380992</td>\n",
              "      <td>0.6605470508959039</td>\n",
              "    </tr>\n",
              "    <tr>\n",
              "      <th>3</th>\n",
              "      <td>svm</td>\n",
              "      <td>0.847582784075476</td>\n",
              "      <td>0.7345102706389208</td>\n",
              "      <td>0.5968783221824584</td>\n",
              "      <td>0.6585220948694884</td>\n",
              "    </tr>\n",
              "    <tr>\n",
              "      <th>4</th>\n",
              "      <td>rf</td>\n",
              "      <td>0.8507063354807014</td>\n",
              "      <td>0.7316200306503617</td>\n",
              "      <td>0.6219125562191256</td>\n",
              "      <td>0.6722927838427981</td>\n",
              "    </tr>\n",
              "  </tbody>\n",
              "</table>\n",
              "</div>\n",
              "      <button class=\"colab-df-convert\" onclick=\"convertToInteractive('df-d3b43829-460b-496c-9c4a-ea4f4c4b47a2')\"\n",
              "              title=\"Convert this dataframe to an interactive table.\"\n",
              "              style=\"display:none;\">\n",
              "        \n",
              "  <svg xmlns=\"http://www.w3.org/2000/svg\" height=\"24px\"viewBox=\"0 0 24 24\"\n",
              "       width=\"24px\">\n",
              "    <path d=\"M0 0h24v24H0V0z\" fill=\"none\"/>\n",
              "    <path d=\"M18.56 5.44l.94 2.06.94-2.06 2.06-.94-2.06-.94-.94-2.06-.94 2.06-2.06.94zm-11 1L8.5 8.5l.94-2.06 2.06-.94-2.06-.94L8.5 2.5l-.94 2.06-2.06.94zm10 10l.94 2.06.94-2.06 2.06-.94-2.06-.94-.94-2.06-.94 2.06-2.06.94z\"/><path d=\"M17.41 7.96l-1.37-1.37c-.4-.4-.92-.59-1.43-.59-.52 0-1.04.2-1.43.59L10.3 9.45l-7.72 7.72c-.78.78-.78 2.05 0 2.83L4 21.41c.39.39.9.59 1.41.59.51 0 1.02-.2 1.41-.59l7.78-7.78 2.81-2.81c.8-.78.8-2.07 0-2.86zM5.41 20L4 18.59l7.72-7.72 1.47 1.35L5.41 20z\"/>\n",
              "  </svg>\n",
              "      </button>\n",
              "      \n",
              "  <style>\n",
              "    .colab-df-container {\n",
              "      display:flex;\n",
              "      flex-wrap:wrap;\n",
              "      gap: 12px;\n",
              "    }\n",
              "\n",
              "    .colab-df-convert {\n",
              "      background-color: #E8F0FE;\n",
              "      border: none;\n",
              "      border-radius: 50%;\n",
              "      cursor: pointer;\n",
              "      display: none;\n",
              "      fill: #1967D2;\n",
              "      height: 32px;\n",
              "      padding: 0 0 0 0;\n",
              "      width: 32px;\n",
              "    }\n",
              "\n",
              "    .colab-df-convert:hover {\n",
              "      background-color: #E2EBFA;\n",
              "      box-shadow: 0px 1px 2px rgba(60, 64, 67, 0.3), 0px 1px 3px 1px rgba(60, 64, 67, 0.15);\n",
              "      fill: #174EA6;\n",
              "    }\n",
              "\n",
              "    [theme=dark] .colab-df-convert {\n",
              "      background-color: #3B4455;\n",
              "      fill: #D2E3FC;\n",
              "    }\n",
              "\n",
              "    [theme=dark] .colab-df-convert:hover {\n",
              "      background-color: #434B5C;\n",
              "      box-shadow: 0px 1px 3px 1px rgba(0, 0, 0, 0.15);\n",
              "      filter: drop-shadow(0px 1px 2px rgba(0, 0, 0, 0.3));\n",
              "      fill: #FFFFFF;\n",
              "    }\n",
              "  </style>\n",
              "\n",
              "      <script>\n",
              "        const buttonEl =\n",
              "          document.querySelector('#df-d3b43829-460b-496c-9c4a-ea4f4c4b47a2 button.colab-df-convert');\n",
              "        buttonEl.style.display =\n",
              "          google.colab.kernel.accessAllowed ? 'block' : 'none';\n",
              "\n",
              "        async function convertToInteractive(key) {\n",
              "          const element = document.querySelector('#df-d3b43829-460b-496c-9c4a-ea4f4c4b47a2');\n",
              "          const dataTable =\n",
              "            await google.colab.kernel.invokeFunction('convertToInteractive',\n",
              "                                                     [key], {});\n",
              "          if (!dataTable) return;\n",
              "\n",
              "          const docLinkHtml = 'Like what you see? Visit the ' +\n",
              "            '<a target=\"_blank\" href=https://colab.research.google.com/notebooks/data_table.ipynb>data table notebook</a>'\n",
              "            + ' to learn more about interactive tables.';\n",
              "          element.innerHTML = '';\n",
              "          dataTable['output_type'] = 'display_data';\n",
              "          await google.colab.output.renderOutput(dataTable, element);\n",
              "          const docLink = document.createElement('div');\n",
              "          docLink.innerHTML = docLinkHtml;\n",
              "          element.appendChild(docLink);\n",
              "        }\n",
              "      </script>\n",
              "    </div>\n",
              "  </div>\n",
              "  "
            ]
          },
          "metadata": {},
          "execution_count": 12
        }
      ]
    },
    {
      "cell_type": "markdown",
      "source": [
        "\n",
        "\n",
        "---\n",
        "\n"
      ],
      "metadata": {
        "id": "A93GCG4chtQl"
      }
    },
    {
      "cell_type": "markdown",
      "source": [
        "\n",
        "\n",
        "---\n",
        "\n"
      ],
      "metadata": {
        "id": "OtJVC0ZvdF5a"
      }
    },
    {
      "cell_type": "markdown",
      "source": [
        "# **Evaluate feature importance using XGB**"
      ],
      "metadata": {
        "id": "-C1UOmxWXCTG"
      }
    },
    {
      "cell_type": "code",
      "source": [
        "# import dataset\n",
        "url = 'https://raw.githubusercontent.com/jbrownlee/Datasets/master/adult-all.csv'\n",
        "df_raw = pd.read_csv(url,names=[\"Age\", \"Workclass\", \"Final Weight\", \"Education\", \"Education Number of Years\", \"Marital-status\",\n",
        "                            \"Occupation\", \"Relationship\", \"Race\", \"Sex\", \"Capital-gain\", \"Capital-loss\",\"Hours-per-week\", \"Native-country\",\n",
        "                            \"Target\"], na_values='?')"
      ],
      "metadata": {
        "id": "EgAoeXPhk4E1"
      },
      "execution_count": null,
      "outputs": []
    },
    {
      "cell_type": "code",
      "source": [
        "df=df_raw.copy()\n",
        "# let´s drop rows with missing data\n",
        "df = df.dropna()\n",
        "# label encode target\n",
        "mapping={\"<=50K\":0,\n",
        "         '>50K':1}\n",
        "df.loc[:,\"Target\"]=df[\"Target\"].map(mapping)\n",
        "# identify feature list\n",
        "features=[f for f in df.columns if f not in (\"Target\")]\n",
        "# select categorical and numerical features\n",
        "cat_ix = df[features].select_dtypes(include=['object', 'bool']).columns\n",
        "num_ix = df[features].select_dtypes(include=['int64', 'float64']).columns\n",
        "# split the dataframe into X and y\n",
        "X=df.loc[:, df.columns != 'Target']\n",
        "y=df.loc[:,'Target']"
      ],
      "metadata": {
        "id": "q-QUWDCOk-VU"
      },
      "execution_count": null,
      "outputs": []
    },
    {
      "cell_type": "code",
      "source": [
        "# DEFINING HP GRIDS\n",
        "# parameter grid for XGB\n",
        "learning_rate_ = [.1,.3,.5]\n",
        "n_estimators_ = [50,100,200]\n",
        "max_depth_=[3,6]\n",
        "grid_xgb = dict(learning_rate=learning_rate_,\n",
        "            n_estimators=n_estimators_,\n",
        "            max_depth=max_depth_)\n",
        "# parameter grid for LogRes\n",
        "C_=[0.01,0.1,1.0,10.0]\n",
        "penalty_=[\"l1\",\"l2\"]\n",
        "grid_lr=dict(C=C_,penalty=penalty_)\n",
        "# parameter grid for RFs\n",
        "n_estimators_=[100,300]\n",
        "max_depth_=[5,8,None]\n",
        "grid_rf=dict(n_estimators=n_estimators_,max_depth=max_depth_)"
      ],
      "metadata": {
        "id": "-09IyWlJlFB-"
      },
      "execution_count": null,
      "outputs": []
    },
    {
      "cell_type": "code",
      "source": [
        "model=xgb.XGBClassifier(n_jobs=-1)\n",
        "name=\"xgb\"\n",
        "grid=grid_xgb\n",
        "# feature transformation for numericals\n",
        "num_pipeline=Pipeline([(\"minmax_scaler\",MinMaxScaler())])\n",
        "# apply MinMax to numericals and OneHot to categoricals\n",
        "transformation_pipeline=ColumnTransformer([(\"num\",num_pipeline,num_ix),\n",
        "                                           (\"cat\",OneHotEncoder(handle_unknown = \"ignore\"),cat_ix)])\n",
        "# NESTED CROSS-VALIDATION: inner folds for HP search, outer for generaliz.error\n",
        "# inner kfold for hp-search\n",
        "inner_kfold=StratifiedKFold(n_splits=3,shuffle=True,random_state=1)\n",
        "# invoke grid-search CV to search for best hp\n",
        "gscv= GridSearchCV(estimator=model,\n",
        "                param_grid = grid,\n",
        "                cv=inner_kfold,\n",
        "                scoring='f1',\n",
        "                verbose=0,\n",
        "                n_jobs=-1,\n",
        "                refit=True)\n",
        "# define model pipeline: data transformation then grid-search\n",
        "model_pipeline=Pipeline([(\"transformer\",transformation_pipeline),\n",
        "                         (\"model\",gscv)])\n",
        "# fit pipeline on (X_train,y_train) to return best model\n",
        "model_pipeline.fit(X,y)"
      ],
      "metadata": {
        "colab": {
          "base_uri": "https://localhost:8080/"
        },
        "id": "_w4kUU_UlVpI",
        "outputId": "71a855f6-9e8c-4403-c12e-f94a875d6cef"
      },
      "execution_count": null,
      "outputs": [
        {
          "output_type": "execute_result",
          "data": {
            "text/plain": [
              "Pipeline(steps=[('transformer',\n",
              "                 ColumnTransformer(transformers=[('num',\n",
              "                                                  Pipeline(steps=[('minmax_scaler',\n",
              "                                                                   MinMaxScaler())]),\n",
              "                                                  Index(['Age', 'Final Weight', 'Education Number of Years', 'Capital-gain',\n",
              "       'Capital-loss', 'Hours-per-week'],\n",
              "      dtype='object')),\n",
              "                                                 ('cat',\n",
              "                                                  OneHotEncoder(handle_unknown='ignore'),\n",
              "                                                  Index(['Workclass', 'Education', 'Marital-status', 'Occupation',\n",
              "       'Relationship', 'Race', 'Sex', 'Native-country'],\n",
              "      dtype='object'))])),\n",
              "                ('model',\n",
              "                 GridSearchCV(cv=StratifiedKFold(n_splits=3, random_state=1, shuffle=True),\n",
              "                              estimator=XGBClassifier(n_jobs=-1), n_jobs=-1,\n",
              "                              param_grid={'learning_rate': [0.1, 0.3, 0.5],\n",
              "                                          'max_depth': [3, 6],\n",
              "                                          'n_estimators': [50, 100, 200]},\n",
              "                              scoring='f1'))])"
            ]
          },
          "metadata": {},
          "execution_count": 101
        }
      ]
    },
    {
      "cell_type": "code",
      "source": [
        "# transform numerical features\n",
        "scaler=MinMaxScaler()\n",
        "Xnum=scaler.fit_transform(X[num_ix])\n",
        "# dataframe of numericals\n",
        "Xnum_df=pd.DataFrame(Xnum,columns=X[num_ix].columns)\n",
        "num_feat_names=X[num_ix].columns.to_list()\n",
        "# transform categorical features\n",
        "onehot=OneHotEncoder(handle_unknown = \"ignore\")\n",
        "Xcat=onehot.fit_transform(X[cat_ix])\n",
        "cat_feat_names=onehot.get_feature_names().tolist()\n",
        "# dataframe of categoricals\n",
        "Xcat_df=pd.DataFrame(Xcat.toarray(),columns=cat_feat_names)\n",
        "# concatenate nums+cats\n",
        "X_df = pd.concat([Xnum_df.reset_index(drop=True), Xcat_df.reset_index(drop=True)], axis=1)"
      ],
      "metadata": {
        "colab": {
          "base_uri": "https://localhost:8080/"
        },
        "id": "0JGpUoEzrihq",
        "outputId": "621b8533-eb50-4966-a15d-2a54c78ce57c"
      },
      "execution_count": null,
      "outputs": [
        {
          "output_type": "stream",
          "name": "stderr",
          "text": [
            "/usr/local/lib/python3.7/dist-packages/sklearn/utils/deprecation.py:87: FutureWarning: Function get_feature_names is deprecated; get_feature_names is deprecated in 1.0 and will be removed in 1.2. Please use get_feature_names_out instead.\n",
            "  warnings.warn(msg, category=FutureWarning)\n"
          ]
        }
      ]
    },
    {
      "cell_type": "code",
      "source": [
        "model=xgb.XGBClassifier(learning_rate=model_pipeline.steps[1][1].best_params_[\"learning_rate\"],\n",
        "                        max_depth=model_pipeline.steps[1][1].best_params_[\"max_depth\"],\n",
        "                        n_estimators=model_pipeline.steps[1][1].best_params_[\"n_estimators\"],\n",
        "                        n_jobs=-1)\n",
        "model.fit(X_df,y)\n",
        "feature_important = model.get_booster().get_score(importance_type=\"gain\")\n",
        "keys = list(feature_important.keys())\n",
        "values = list(feature_important.values())\n",
        "data = pd.DataFrame(data=values, index=keys, columns=[\"score\"]).sort_values(by = \"score\", ascending=False)\n",
        "data.nlargest(20, columns=\"score\").plot(kind='barh', figsize = (20,10)) ## plot top features"
      ],
      "metadata": {
        "colab": {
          "base_uri": "https://localhost:8080/",
          "height": 434
        },
        "id": "VToTX4Srl3pd",
        "outputId": "de90ac1d-5ea4-40fb-a26c-230fce94e86a"
      },
      "execution_count": null,
      "outputs": [
        {
          "output_type": "execute_result",
          "data": {
            "text/plain": [
              "<matplotlib.axes._subplots.AxesSubplot at 0x7fd9f5e23f50>"
            ]
          },
          "metadata": {},
          "execution_count": 103
        },
        {
          "output_type": "display_data",
          "data": {
            "text/plain": [
              "<Figure size 1440x720 with 1 Axes>"
            ],
            "image/png": "[encoded data removed]"
          },
          "metadata": {
            "needs_background": "light"
          }
        }
      ]
    },
    {
      "cell_type": "code",
      "source": [
        "top=10\n",
        "feature_list=X_df.columns\n",
        "f_imp=model.feature_importances_\n",
        "idx = (-f_imp).argsort()[:top]\n",
        "feats= feature_list[idx].tolist()\n",
        "print(f\"Top {top} features are {feats}\")"
      ],
      "metadata": {
        "id": "-51OGX04t8rP",
        "colab": {
          "base_uri": "https://localhost:8080/"
        },
        "outputId": "3d2110eb-fb84-4861-b8c4-925c07666e8c"
      },
      "execution_count": null,
      "outputs": [
        {
          "output_type": "stream",
          "name": "stdout",
          "text": [
            "Top 10 features are ['x2_Married-civ-spouse', 'Education Number of Years', 'Capital-gain', 'x3_Other-service', 'x4_Own-child', 'x3_Exec-managerial', 'Capital-loss', 'x3_Farming-fishing', 'x3_Prof-specialty', 'x3_Handlers-cleaners']\n"
          ]
        }
      ]
    },
    {
      "cell_type": "code",
      "source": [
        "from xgboost import plot_importance\n",
        "import matplotlib.pyplot as plt\n",
        "ax=plot_importance(model, max_num_features = 20,importance_type=\"gain\")\n",
        "ax.figure.savefig(\"XGB_feature_importance.png\",dpi=350)"
      ],
      "metadata": {
        "id": "CI0t5_zaV4xN",
        "colab": {
          "base_uri": "https://localhost:8080/",
          "height": 295
        },
        "outputId": "2fb206d1-e464-4823-da7d-489e2917607d"
      },
      "execution_count": null,
      "outputs": [
        {
          "output_type": "display_data",
          "data": {
            "text/plain": [
              "<Figure size 432x288 with 1 Axes>"
            ],
            "image/png": "[encoded data removed]"
          },
          "metadata": {
            "needs_background": "light"
          }
        }
      ]
    },
    {
      "cell_type": "markdown",
      "source": [
        "# **Evaluate feature importance using RF**"
      ],
      "metadata": {
        "id": "DFFJugGq0lrM"
      }
    },
    {
      "cell_type": "code",
      "source": [
        "from sklearn.ensemble import RandomForestClassifier\n",
        "model=RandomForestClassifier()\n",
        "name=\"rf\"\n",
        "grid=grid_rf\n",
        "# feature transformation for numericals\n",
        "num_pipeline=Pipeline([(\"minmax_scaler\",MinMaxScaler())])\n",
        "# apply MinMax to numericals and OneHot to categoricals\n",
        "transformation_pipeline=ColumnTransformer([(\"num\",num_pipeline,num_ix),\n",
        "                                           (\"cat\",OneHotEncoder(handle_unknown = \"ignore\"),cat_ix)])\n",
        "# NESTED CROSS-VALIDATION: inner folds for HP search, outer for generaliz.error\n",
        "# inner kfold for hp-search\n",
        "inner_kfold=StratifiedKFold(n_splits=3,shuffle=True,random_state=1)\n",
        "# invoke grid-search CV to search for best hp\n",
        "gscv= GridSearchCV(estimator=model,\n",
        "                param_grid = grid,\n",
        "                cv=inner_kfold,\n",
        "                scoring='f1',\n",
        "                verbose=0,\n",
        "                n_jobs=-1,\n",
        "                refit=True)\n",
        "# define model pipeline: data transformation then grid-search\n",
        "model_pipeline=Pipeline([(\"transformer\",transformation_pipeline),\n",
        "                         (\"model\",gscv)])\n",
        "# fit pipeline on (X_train,y_train) to return best model\n",
        "model_pipeline.fit(X,y)"
      ],
      "metadata": {
        "id": "mzUD6bVKKaPR",
        "colab": {
          "base_uri": "https://localhost:8080/"
        },
        "outputId": "cb032289-3fec-4a6a-c838-5e4ab1b9c984"
      },
      "execution_count": null,
      "outputs": [
        {
          "output_type": "stream",
          "name": "stderr",
          "text": [
            "/usr/local/lib/python3.7/dist-packages/joblib/externals/loky/process_executor.py:705: UserWarning: A worker stopped while some jobs were given to the executor. This can be caused by a too short worker timeout or by a memory leak.\n",
            "  \"timeout or by a memory leak.\", UserWarning\n"
          ]
        },
        {
          "output_type": "execute_result",
          "data": {
            "text/plain": [
              "Pipeline(steps=[('transformer',\n",
              "                 ColumnTransformer(transformers=[('num',\n",
              "                                                  Pipeline(steps=[('minmax_scaler',\n",
              "                                                                   MinMaxScaler())]),\n",
              "                                                  Index(['Age', 'Final Weight', 'Education Number of Years', 'Capital-gain',\n",
              "       'Capital-loss', 'Hours-per-week'],\n",
              "      dtype='object')),\n",
              "                                                 ('cat',\n",
              "                                                  OneHotEncoder(handle_unknown='ignore'),\n",
              "                                                  Index(['Workclass', 'Education', 'Marital-status', 'Occupation',\n",
              "       'Relationship', 'Race', 'Sex', 'Native-country'],\n",
              "      dtype='object'))])),\n",
              "                ('model',\n",
              "                 GridSearchCV(cv=StratifiedKFold(n_splits=3, random_state=1, shuffle=True),\n",
              "                              estimator=RandomForestClassifier(), n_jobs=-1,\n",
              "                              param_grid={'max_depth': [5, 8, None],\n",
              "                                          'n_estimators': [100, 300]},\n",
              "                              scoring='f1'))])"
            ]
          },
          "metadata": {},
          "execution_count": 106
        }
      ]
    },
    {
      "cell_type": "code",
      "source": [
        "model=RandomForestClassifier(max_depth=model_pipeline.steps[1][1].best_params_[\"max_depth\"],\n",
        "                        n_estimators=model_pipeline.steps[1][1].best_params_[\"n_estimators\"],\n",
        "                        n_jobs=-1)\n",
        "model.fit(X_df,y)"
      ],
      "metadata": {
        "colab": {
          "base_uri": "https://localhost:8080/"
        },
        "id": "n-qqJL2byIPJ",
        "outputId": "7f57a371-a060-4b19-91a6-dde1b0f334d0"
      },
      "execution_count": null,
      "outputs": [
        {
          "output_type": "execute_result",
          "data": {
            "text/plain": [
              "RandomForestClassifier(n_estimators=300, n_jobs=-1)"
            ]
          },
          "metadata": {},
          "execution_count": 107
        }
      ]
    },
    {
      "cell_type": "code",
      "source": [
        "feats = {}\n",
        "for feature, importance in zip(X_df.columns, model.feature_importances_):\n",
        "  feats[feature] = importance #add the name/value pair \n",
        "importances = pd.DataFrame.from_dict(feats, orient='index').rename(columns={0: 'Gini-importance'})\n",
        "ax=importances.sort_values(by='Gini-importance',ascending=\"False\").nlargest(20,columns=\"Gini-importance\").plot(kind='barh', color=\"SeaGreen\",figsize=(10,8))\n",
        "ax.figure.savefig(\"RF_feature_importance.png\",dpi=350)"
      ],
      "metadata": {
        "colab": {
          "base_uri": "https://localhost:8080/",
          "height": 483
        },
        "id": "CxXiCaksykO8",
        "outputId": "88811e8a-f2fd-4669-cf4b-f100030760ac"
      },
      "execution_count": null,
      "outputs": [
        {
          "output_type": "display_data",
          "data": {
            "text/plain": [
              "<Figure size 720x576 with 1 Axes>"
            ],
            "image/png": "[encoded data removed]"
          },
          "metadata": {
            "needs_background": "light"
          }
        }
      ]
    },
    {
      "cell_type": "markdown",
      "source": [
        "\n",
        "\n",
        "---\n",
        "\n"
      ],
      "metadata": {
        "id": "_w9ew0TZpA2w"
      }
    }
  ]
}